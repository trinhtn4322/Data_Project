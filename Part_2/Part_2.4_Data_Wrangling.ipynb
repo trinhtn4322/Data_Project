{
 "cells": [
  {
   "cell_type": "markdown",
   "id": "7f916970",
   "metadata": {},
   "source": [
    "# Data Preprocessing with R"
   ]
  },
  {
   "cell_type": "code",
   "execution_count": 1,
   "id": "c4dda796",
   "metadata": {},
   "outputs": [
    {
     "name": "stderr",
     "output_type": "stream",
     "text": [
      "Warning message:\n",
      "\"package 'stringr' was built under R version 4.3.1\"\n",
      "── \u001b[1mAttaching core tidyverse packages\u001b[22m ──────────────────────────────────────────────────────────────── tidyverse 2.0.0 ──\n",
      "\u001b[32m✔\u001b[39m \u001b[34mdplyr    \u001b[39m 1.1.2     \u001b[32m✔\u001b[39m \u001b[34mreadr    \u001b[39m 2.1.4\n",
      "\u001b[32m✔\u001b[39m \u001b[34mforcats  \u001b[39m 1.0.0     \u001b[32m✔\u001b[39m \u001b[34mstringr  \u001b[39m 1.5.0\n",
      "\u001b[32m✔\u001b[39m \u001b[34mggplot2  \u001b[39m 3.4.2     \u001b[32m✔\u001b[39m \u001b[34mtibble   \u001b[39m 3.2.1\n",
      "\u001b[32m✔\u001b[39m \u001b[34mlubridate\u001b[39m 1.9.2     \u001b[32m✔\u001b[39m \u001b[34mtidyr    \u001b[39m 1.3.0\n",
      "\u001b[32m✔\u001b[39m \u001b[34mpurrr    \u001b[39m 1.0.1     \n",
      "── \u001b[1mConflicts\u001b[22m ────────────────────────────────────────────────────────────────────────────────── tidyverse_conflicts() ──\n",
      "\u001b[31m✖\u001b[39m \u001b[34mdplyr\u001b[39m::\u001b[32mfilter()\u001b[39m masks \u001b[34mstats\u001b[39m::filter()\n",
      "\u001b[31m✖\u001b[39m \u001b[34mdplyr\u001b[39m::\u001b[32mlag()\u001b[39m    masks \u001b[34mstats\u001b[39m::lag()\n",
      "\u001b[36mℹ\u001b[39m Use the conflicted package (\u001b[3m\u001b[34m<http://conflicted.r-lib.org/>\u001b[39m\u001b[23m) to force all conflicts to become errors\n"
     ]
    }
   ],
   "source": [
    "# import library\n",
    "library(tidyverse)"
   ]
  },
  {
   "cell_type": "code",
   "execution_count": 2,
   "id": "4f3f7f71",
   "metadata": {},
   "outputs": [],
   "source": [
    "df <- read.csv('out_put_2.csv')"
   ]
  },
  {
   "cell_type": "code",
   "execution_count": 3,
   "id": "3bcfd30e",
   "metadata": {},
   "outputs": [
    {
     "data": {
      "text/html": [
       "<table class=\"dataframe\">\n",
       "<caption>A data.frame: 6 × 10</caption>\n",
       "<thead>\n",
       "\t<tr><th></th><th scope=col>DATE</th><th scope=col>CHANCE_OF_PRECIPITATION</th><th scope=col>TEMPERATURE</th><th scope=col>FEELS_LIKE_TEMPERATURE</th><th scope=col>WIND_GUST</th><th scope=col>VISIBILITY</th><th scope=col>HUMIDITY</th><th scope=col>UV</th><th scope=col>WIND_DIRECTION</th><th scope=col>SPEED</th></tr>\n",
       "\t<tr><th></th><th scope=col>&lt;chr&gt;</th><th scope=col>&lt;int&gt;</th><th scope=col>&lt;int&gt;</th><th scope=col>&lt;int&gt;</th><th scope=col>&lt;int&gt;</th><th scope=col>&lt;chr&gt;</th><th scope=col>&lt;int&gt;</th><th scope=col>&lt;int&gt;</th><th scope=col>&lt;chr&gt;</th><th scope=col>&lt;int&gt;</th></tr>\n",
       "</thead>\n",
       "<tbody>\n",
       "\t<tr><th scope=row>1</th><td>2023-06-15 18:00:00</td><td>60</td><td>30</td><td>33</td><td>13</td><td>VG</td><td>73</td><td>1</td><td>WSW</td><td>7</td></tr>\n",
       "\t<tr><th scope=row>2</th><td>2023-06-15 19:00:00</td><td>60</td><td>29</td><td>32</td><td>11</td><td>VG</td><td>80</td><td>0</td><td>WSW</td><td>6</td></tr>\n",
       "\t<tr><th scope=row>3</th><td>2023-06-15 20:00:00</td><td>60</td><td>28</td><td>31</td><td>10</td><td>VG</td><td>82</td><td>0</td><td>WSW</td><td>6</td></tr>\n",
       "\t<tr><th scope=row>4</th><td>2023-06-15 21:00:00</td><td>10</td><td>28</td><td>31</td><td> 9</td><td>VG</td><td>84</td><td>0</td><td>WSW</td><td>5</td></tr>\n",
       "\t<tr><th scope=row>5</th><td>2023-06-15 22:00:00</td><td>10</td><td>28</td><td>31</td><td> 8</td><td>VG</td><td>86</td><td>0</td><td>SW </td><td>4</td></tr>\n",
       "\t<tr><th scope=row>6</th><td>2023-06-15 23:00:00</td><td>10</td><td>27</td><td>31</td><td> 8</td><td>VG</td><td>88</td><td>0</td><td>SW </td><td>4</td></tr>\n",
       "</tbody>\n",
       "</table>\n"
      ],
      "text/latex": [
       "A data.frame: 6 × 10\n",
       "\\begin{tabular}{r|llllllllll}\n",
       "  & DATE & CHANCE\\_OF\\_PRECIPITATION & TEMPERATURE & FEELS\\_LIKE\\_TEMPERATURE & WIND\\_GUST & VISIBILITY & HUMIDITY & UV & WIND\\_DIRECTION & SPEED\\\\\n",
       "  & <chr> & <int> & <int> & <int> & <int> & <chr> & <int> & <int> & <chr> & <int>\\\\\n",
       "\\hline\n",
       "\t1 & 2023-06-15 18:00:00 & 60 & 30 & 33 & 13 & VG & 73 & 1 & WSW & 7\\\\\n",
       "\t2 & 2023-06-15 19:00:00 & 60 & 29 & 32 & 11 & VG & 80 & 0 & WSW & 6\\\\\n",
       "\t3 & 2023-06-15 20:00:00 & 60 & 28 & 31 & 10 & VG & 82 & 0 & WSW & 6\\\\\n",
       "\t4 & 2023-06-15 21:00:00 & 10 & 28 & 31 &  9 & VG & 84 & 0 & WSW & 5\\\\\n",
       "\t5 & 2023-06-15 22:00:00 & 10 & 28 & 31 &  8 & VG & 86 & 0 & SW  & 4\\\\\n",
       "\t6 & 2023-06-15 23:00:00 & 10 & 27 & 31 &  8 & VG & 88 & 0 & SW  & 4\\\\\n",
       "\\end{tabular}\n"
      ],
      "text/markdown": [
       "\n",
       "A data.frame: 6 × 10\n",
       "\n",
       "| <!--/--> | DATE &lt;chr&gt; | CHANCE_OF_PRECIPITATION &lt;int&gt; | TEMPERATURE &lt;int&gt; | FEELS_LIKE_TEMPERATURE &lt;int&gt; | WIND_GUST &lt;int&gt; | VISIBILITY &lt;chr&gt; | HUMIDITY &lt;int&gt; | UV &lt;int&gt; | WIND_DIRECTION &lt;chr&gt; | SPEED &lt;int&gt; |\n",
       "|---|---|---|---|---|---|---|---|---|---|---|\n",
       "| 1 | 2023-06-15 18:00:00 | 60 | 30 | 33 | 13 | VG | 73 | 1 | WSW | 7 |\n",
       "| 2 | 2023-06-15 19:00:00 | 60 | 29 | 32 | 11 | VG | 80 | 0 | WSW | 6 |\n",
       "| 3 | 2023-06-15 20:00:00 | 60 | 28 | 31 | 10 | VG | 82 | 0 | WSW | 6 |\n",
       "| 4 | 2023-06-15 21:00:00 | 10 | 28 | 31 |  9 | VG | 84 | 0 | WSW | 5 |\n",
       "| 5 | 2023-06-15 22:00:00 | 10 | 28 | 31 |  8 | VG | 86 | 0 | SW  | 4 |\n",
       "| 6 | 2023-06-15 23:00:00 | 10 | 27 | 31 |  8 | VG | 88 | 0 | SW  | 4 |\n",
       "\n"
      ],
      "text/plain": [
       "  DATE                CHANCE_OF_PRECIPITATION TEMPERATURE\n",
       "1 2023-06-15 18:00:00 60                      30         \n",
       "2 2023-06-15 19:00:00 60                      29         \n",
       "3 2023-06-15 20:00:00 60                      28         \n",
       "4 2023-06-15 21:00:00 10                      28         \n",
       "5 2023-06-15 22:00:00 10                      28         \n",
       "6 2023-06-15 23:00:00 10                      27         \n",
       "  FEELS_LIKE_TEMPERATURE WIND_GUST VISIBILITY HUMIDITY UV WIND_DIRECTION SPEED\n",
       "1 33                     13        VG         73       1  WSW            7    \n",
       "2 32                     11        VG         80       0  WSW            6    \n",
       "3 31                     10        VG         82       0  WSW            6    \n",
       "4 31                      9        VG         84       0  WSW            5    \n",
       "5 31                      8        VG         86       0  SW             4    \n",
       "6 31                      8        VG         88       0  SW             4    "
      ]
     },
     "metadata": {},
     "output_type": "display_data"
    }
   ],
   "source": [
    "head(df)"
   ]
  },
  {
   "cell_type": "markdown",
   "id": "6388db90",
   "metadata": {},
   "source": [
    "### Label Transformation `VISIBILITY`"
   ]
  },
  {
   "cell_type": "code",
   "execution_count": 4,
   "id": "d95e3f61",
   "metadata": {},
   "outputs": [],
   "source": [
    "df$VISIBILITY <- ifelse(df$VISIBILITY == \"G\", 0, 1)"
   ]
  },
  {
   "cell_type": "code",
   "execution_count": 5,
   "id": "c2deebce",
   "metadata": {},
   "outputs": [
    {
     "data": {
      "text/plain": [
       "\n",
       "  0   1 \n",
       "118 296 "
      ]
     },
     "metadata": {},
     "output_type": "display_data"
    }
   ],
   "source": [
    "table(df$VISIBILITY )"
   ]
  },
  {
   "cell_type": "markdown",
   "id": "dcb2d153",
   "metadata": {},
   "source": [
    "### Label Transformation `WIND_DIRECTION`"
   ]
  },
  {
   "cell_type": "code",
   "execution_count": 6,
   "id": "e87ea38e",
   "metadata": {},
   "outputs": [
    {
     "data": {
      "text/plain": [
       "\n",
       "ESE NNE NNW  NW   S  SE SSE SSW  SW   W WNW WSW \n",
       "  4   1   1   6  29   3  24  91  84  69  12  90 "
      ]
     },
     "metadata": {},
     "output_type": "display_data"
    }
   ],
   "source": [
    "table(df$WIND_DIRECTION)"
   ]
  },
  {
   "cell_type": "markdown",
   "id": "2a28a620",
   "metadata": {},
   "source": [
    "Ta đã nhận xét là những biến nào có W thì lượng mưa tương đối cao, ngược lại với S\n",
    "\n",
    "Vì vậy tôi sẽ sử dụng giả định danh cho 3 trường hợp\n",
    "- ESE, S,,SE,SSE, NNE -> S\n",
    "- NNW, NW,W, WNW -> W\n",
    "- SSW, SW,WSW -> B (Both)"
   ]
  },
  {
   "cell_type": "code",
   "execution_count": 7,
   "id": "79c3a22a",
   "metadata": {},
   "outputs": [],
   "source": [
    "df$WIND_DIRECTION <- ifelse(df$WIND_DIRECTION %in% c(\"ESE\", \"S\", \"SE\", \"SSE\", \"NNE\"), \"S\",\n",
    "                ifelse(df$WIND_DIRECTION %in% c(\"NNW\", \"NW\", \"W\", \"WNW\"), \"W\",\n",
    "                       ifelse(df$WIND_DIRECTION %in% c(\"SSW\", \"SW\", \"WSW\"), \"B\", NA)))"
   ]
  },
  {
   "cell_type": "code",
   "execution_count": 8,
   "id": "0cf86463",
   "metadata": {},
   "outputs": [
    {
     "data": {
      "text/plain": [
       "\n",
       "  B   S   W \n",
       "265  61  88 "
      ]
     },
     "metadata": {},
     "output_type": "display_data"
    }
   ],
   "source": [
    "table(df$WIND_DIRECTION)"
   ]
  },
  {
   "cell_type": "markdown",
   "id": "dc1d93e1",
   "metadata": {},
   "source": [
    "#### One-hot encoding for `WIND_DIRECTION`"
   ]
  },
  {
   "cell_type": "code",
   "execution_count": 9,
   "id": "c51d5812",
   "metadata": {},
   "outputs": [],
   "source": [
    "encoded_WIND_DIRECTION <- model.matrix(~ df$WIND_DIRECTION - 1)\n",
    "colnames(encoded_WIND_DIRECTION) <- c(\"B\", \"S\", \"W\")\n",
    "encode_df <- as.data.frame(encoded_WIND_DIRECTION)"
   ]
  },
  {
   "cell_type": "code",
   "execution_count": 10,
   "id": "6033082b",
   "metadata": {},
   "outputs": [
    {
     "data": {
      "text/html": [
       "<table class=\"dataframe\">\n",
       "<caption>A data.frame: 6 × 3</caption>\n",
       "<thead>\n",
       "\t<tr><th></th><th scope=col>B</th><th scope=col>S</th><th scope=col>W</th></tr>\n",
       "\t<tr><th></th><th scope=col>&lt;dbl&gt;</th><th scope=col>&lt;dbl&gt;</th><th scope=col>&lt;dbl&gt;</th></tr>\n",
       "</thead>\n",
       "<tbody>\n",
       "\t<tr><th scope=row>1</th><td>1</td><td>0</td><td>0</td></tr>\n",
       "\t<tr><th scope=row>2</th><td>1</td><td>0</td><td>0</td></tr>\n",
       "\t<tr><th scope=row>3</th><td>1</td><td>0</td><td>0</td></tr>\n",
       "\t<tr><th scope=row>4</th><td>1</td><td>0</td><td>0</td></tr>\n",
       "\t<tr><th scope=row>5</th><td>1</td><td>0</td><td>0</td></tr>\n",
       "\t<tr><th scope=row>6</th><td>1</td><td>0</td><td>0</td></tr>\n",
       "</tbody>\n",
       "</table>\n"
      ],
      "text/latex": [
       "A data.frame: 6 × 3\n",
       "\\begin{tabular}{r|lll}\n",
       "  & B & S & W\\\\\n",
       "  & <dbl> & <dbl> & <dbl>\\\\\n",
       "\\hline\n",
       "\t1 & 1 & 0 & 0\\\\\n",
       "\t2 & 1 & 0 & 0\\\\\n",
       "\t3 & 1 & 0 & 0\\\\\n",
       "\t4 & 1 & 0 & 0\\\\\n",
       "\t5 & 1 & 0 & 0\\\\\n",
       "\t6 & 1 & 0 & 0\\\\\n",
       "\\end{tabular}\n"
      ],
      "text/markdown": [
       "\n",
       "A data.frame: 6 × 3\n",
       "\n",
       "| <!--/--> | B &lt;dbl&gt; | S &lt;dbl&gt; | W &lt;dbl&gt; |\n",
       "|---|---|---|---|\n",
       "| 1 | 1 | 0 | 0 |\n",
       "| 2 | 1 | 0 | 0 |\n",
       "| 3 | 1 | 0 | 0 |\n",
       "| 4 | 1 | 0 | 0 |\n",
       "| 5 | 1 | 0 | 0 |\n",
       "| 6 | 1 | 0 | 0 |\n",
       "\n"
      ],
      "text/plain": [
       "  B S W\n",
       "1 1 0 0\n",
       "2 1 0 0\n",
       "3 1 0 0\n",
       "4 1 0 0\n",
       "5 1 0 0\n",
       "6 1 0 0"
      ]
     },
     "metadata": {},
     "output_type": "display_data"
    }
   ],
   "source": [
    "head(encode_df)"
   ]
  },
  {
   "cell_type": "code",
   "execution_count": 11,
   "id": "194522b2",
   "metadata": {},
   "outputs": [],
   "source": [
    "df <- cbind(df[, -which(names(df) == \"WIND_DIRECTION\")], encode_df)"
   ]
  },
  {
   "cell_type": "code",
   "execution_count": 12,
   "id": "6d5abcd8",
   "metadata": {},
   "outputs": [
    {
     "data": {
      "text/html": [
       "<table class=\"dataframe\">\n",
       "<caption>A data.frame: 6 × 12</caption>\n",
       "<thead>\n",
       "\t<tr><th></th><th scope=col>DATE</th><th scope=col>CHANCE_OF_PRECIPITATION</th><th scope=col>TEMPERATURE</th><th scope=col>FEELS_LIKE_TEMPERATURE</th><th scope=col>WIND_GUST</th><th scope=col>VISIBILITY</th><th scope=col>HUMIDITY</th><th scope=col>UV</th><th scope=col>SPEED</th><th scope=col>B</th><th scope=col>S</th><th scope=col>W</th></tr>\n",
       "\t<tr><th></th><th scope=col>&lt;chr&gt;</th><th scope=col>&lt;int&gt;</th><th scope=col>&lt;int&gt;</th><th scope=col>&lt;int&gt;</th><th scope=col>&lt;int&gt;</th><th scope=col>&lt;dbl&gt;</th><th scope=col>&lt;int&gt;</th><th scope=col>&lt;int&gt;</th><th scope=col>&lt;int&gt;</th><th scope=col>&lt;dbl&gt;</th><th scope=col>&lt;dbl&gt;</th><th scope=col>&lt;dbl&gt;</th></tr>\n",
       "</thead>\n",
       "<tbody>\n",
       "\t<tr><th scope=row>1</th><td>2023-06-15 18:00:00</td><td>60</td><td>30</td><td>33</td><td>13</td><td>1</td><td>73</td><td>1</td><td>7</td><td>1</td><td>0</td><td>0</td></tr>\n",
       "\t<tr><th scope=row>2</th><td>2023-06-15 19:00:00</td><td>60</td><td>29</td><td>32</td><td>11</td><td>1</td><td>80</td><td>0</td><td>6</td><td>1</td><td>0</td><td>0</td></tr>\n",
       "\t<tr><th scope=row>3</th><td>2023-06-15 20:00:00</td><td>60</td><td>28</td><td>31</td><td>10</td><td>1</td><td>82</td><td>0</td><td>6</td><td>1</td><td>0</td><td>0</td></tr>\n",
       "\t<tr><th scope=row>4</th><td>2023-06-15 21:00:00</td><td>10</td><td>28</td><td>31</td><td> 9</td><td>1</td><td>84</td><td>0</td><td>5</td><td>1</td><td>0</td><td>0</td></tr>\n",
       "\t<tr><th scope=row>5</th><td>2023-06-15 22:00:00</td><td>10</td><td>28</td><td>31</td><td> 8</td><td>1</td><td>86</td><td>0</td><td>4</td><td>1</td><td>0</td><td>0</td></tr>\n",
       "\t<tr><th scope=row>6</th><td>2023-06-15 23:00:00</td><td>10</td><td>27</td><td>31</td><td> 8</td><td>1</td><td>88</td><td>0</td><td>4</td><td>1</td><td>0</td><td>0</td></tr>\n",
       "</tbody>\n",
       "</table>\n"
      ],
      "text/latex": [
       "A data.frame: 6 × 12\n",
       "\\begin{tabular}{r|llllllllllll}\n",
       "  & DATE & CHANCE\\_OF\\_PRECIPITATION & TEMPERATURE & FEELS\\_LIKE\\_TEMPERATURE & WIND\\_GUST & VISIBILITY & HUMIDITY & UV & SPEED & B & S & W\\\\\n",
       "  & <chr> & <int> & <int> & <int> & <int> & <dbl> & <int> & <int> & <int> & <dbl> & <dbl> & <dbl>\\\\\n",
       "\\hline\n",
       "\t1 & 2023-06-15 18:00:00 & 60 & 30 & 33 & 13 & 1 & 73 & 1 & 7 & 1 & 0 & 0\\\\\n",
       "\t2 & 2023-06-15 19:00:00 & 60 & 29 & 32 & 11 & 1 & 80 & 0 & 6 & 1 & 0 & 0\\\\\n",
       "\t3 & 2023-06-15 20:00:00 & 60 & 28 & 31 & 10 & 1 & 82 & 0 & 6 & 1 & 0 & 0\\\\\n",
       "\t4 & 2023-06-15 21:00:00 & 10 & 28 & 31 &  9 & 1 & 84 & 0 & 5 & 1 & 0 & 0\\\\\n",
       "\t5 & 2023-06-15 22:00:00 & 10 & 28 & 31 &  8 & 1 & 86 & 0 & 4 & 1 & 0 & 0\\\\\n",
       "\t6 & 2023-06-15 23:00:00 & 10 & 27 & 31 &  8 & 1 & 88 & 0 & 4 & 1 & 0 & 0\\\\\n",
       "\\end{tabular}\n"
      ],
      "text/markdown": [
       "\n",
       "A data.frame: 6 × 12\n",
       "\n",
       "| <!--/--> | DATE &lt;chr&gt; | CHANCE_OF_PRECIPITATION &lt;int&gt; | TEMPERATURE &lt;int&gt; | FEELS_LIKE_TEMPERATURE &lt;int&gt; | WIND_GUST &lt;int&gt; | VISIBILITY &lt;dbl&gt; | HUMIDITY &lt;int&gt; | UV &lt;int&gt; | SPEED &lt;int&gt; | B &lt;dbl&gt; | S &lt;dbl&gt; | W &lt;dbl&gt; |\n",
       "|---|---|---|---|---|---|---|---|---|---|---|---|---|\n",
       "| 1 | 2023-06-15 18:00:00 | 60 | 30 | 33 | 13 | 1 | 73 | 1 | 7 | 1 | 0 | 0 |\n",
       "| 2 | 2023-06-15 19:00:00 | 60 | 29 | 32 | 11 | 1 | 80 | 0 | 6 | 1 | 0 | 0 |\n",
       "| 3 | 2023-06-15 20:00:00 | 60 | 28 | 31 | 10 | 1 | 82 | 0 | 6 | 1 | 0 | 0 |\n",
       "| 4 | 2023-06-15 21:00:00 | 10 | 28 | 31 |  9 | 1 | 84 | 0 | 5 | 1 | 0 | 0 |\n",
       "| 5 | 2023-06-15 22:00:00 | 10 | 28 | 31 |  8 | 1 | 86 | 0 | 4 | 1 | 0 | 0 |\n",
       "| 6 | 2023-06-15 23:00:00 | 10 | 27 | 31 |  8 | 1 | 88 | 0 | 4 | 1 | 0 | 0 |\n",
       "\n"
      ],
      "text/plain": [
       "  DATE                CHANCE_OF_PRECIPITATION TEMPERATURE\n",
       "1 2023-06-15 18:00:00 60                      30         \n",
       "2 2023-06-15 19:00:00 60                      29         \n",
       "3 2023-06-15 20:00:00 60                      28         \n",
       "4 2023-06-15 21:00:00 10                      28         \n",
       "5 2023-06-15 22:00:00 10                      28         \n",
       "6 2023-06-15 23:00:00 10                      27         \n",
       "  FEELS_LIKE_TEMPERATURE WIND_GUST VISIBILITY HUMIDITY UV SPEED B S W\n",
       "1 33                     13        1          73       1  7     1 0 0\n",
       "2 32                     11        1          80       0  6     1 0 0\n",
       "3 31                     10        1          82       0  6     1 0 0\n",
       "4 31                      9        1          84       0  5     1 0 0\n",
       "5 31                      8        1          86       0  4     1 0 0\n",
       "6 31                      8        1          88       0  4     1 0 0"
      ]
     },
     "metadata": {},
     "output_type": "display_data"
    }
   ],
   "source": [
    "head(df)"
   ]
  },
  {
   "cell_type": "markdown",
   "id": "0c8466fc",
   "metadata": {},
   "source": [
    "## Data Normalization"
   ]
  },
  {
   "cell_type": "code",
   "execution_count": 13,
   "id": "e2c8279e",
   "metadata": {},
   "outputs": [
    {
     "data": {
      "text/plain": [
       "\n",
       "  5  10  20  30  40  50  60  70 \n",
       " 30 170   9  38  70  17  58  22 "
      ]
     },
     "metadata": {},
     "output_type": "display_data"
    }
   ],
   "source": [
    "table(df$CHANCE_OF_PRECIPITATION)"
   ]
  },
  {
   "cell_type": "markdown",
   "id": "b893d99f",
   "metadata": {},
   "source": [
    "##### Data bining\n",
    "Data distribution in the range: 5,10,20,30,40,50,60,70\n",
    "\n",
    "- 5-20: 0 \n",
    "- 20-30: 1\n",
    "- 30-40: 2\n",
    "- 40-50: 3\n",
    "- 50-70 : 4"
   ]
  },
  {
   "cell_type": "code",
   "execution_count": 14,
   "id": "16d26aa4",
   "metadata": {},
   "outputs": [],
   "source": [
    "breaks <- c(5, 20, 30, 40, 50, 70)\n",
    "labels <- c(0, 1, 2, 3, 4)\n",
    "df$CHANCE_OF_PRECIPITATION <- cut(df[['CHANCE_OF_PRECIPITATION']], breaks = breaks, labels = labels, include.lowest = TRUE)\n"
   ]
  },
  {
   "cell_type": "code",
   "execution_count": 18,
   "id": "4ef95172",
   "metadata": {},
   "outputs": [
    {
     "data": {
      "text/plain": [
       "\n",
       "  0   1   2   3   4 \n",
       "209  38  70  17  80 "
      ]
     },
     "metadata": {},
     "output_type": "display_data"
    }
   ],
   "source": [
    "table(df$CHANCE_OF_PRECIPITATION)"
   ]
  },
  {
   "cell_type": "code",
   "execution_count": 15,
   "id": "8d2af616",
   "metadata": {},
   "outputs": [],
   "source": [
    "df_without_date <- subset(df, select = -c(DATE, CHANCE_OF_PRECIPITATION))\n",
    "\n",
    "normalized_df <- as.data.frame(apply(df_without_date, 2, function(x) {\n",
    "  (x - min(x)) / (max(x) - min(x))\n",
    "}))\n",
    "\n",
    "df <- cbind(DATE = df$DATE, CHANCE_OF_PRECIPITATION=df$CHANCE_OF_PRECIPITATION, normalized_df)\n"
   ]
  },
  {
   "cell_type": "code",
   "execution_count": 16,
   "id": "d829e12c",
   "metadata": {},
   "outputs": [
    {
     "data": {
      "text/html": [
       "<table class=\"dataframe\">\n",
       "<caption>A data.frame: 6 × 12</caption>\n",
       "<thead>\n",
       "\t<tr><th></th><th scope=col>DATE</th><th scope=col>CHANCE_OF_PRECIPITATION</th><th scope=col>TEMPERATURE</th><th scope=col>FEELS_LIKE_TEMPERATURE</th><th scope=col>WIND_GUST</th><th scope=col>VISIBILITY</th><th scope=col>HUMIDITY</th><th scope=col>UV</th><th scope=col>SPEED</th><th scope=col>B</th><th scope=col>S</th><th scope=col>W</th></tr>\n",
       "\t<tr><th></th><th scope=col>&lt;chr&gt;</th><th scope=col>&lt;fct&gt;</th><th scope=col>&lt;dbl&gt;</th><th scope=col>&lt;dbl&gt;</th><th scope=col>&lt;dbl&gt;</th><th scope=col>&lt;dbl&gt;</th><th scope=col>&lt;dbl&gt;</th><th scope=col>&lt;dbl&gt;</th><th scope=col>&lt;dbl&gt;</th><th scope=col>&lt;dbl&gt;</th><th scope=col>&lt;dbl&gt;</th><th scope=col>&lt;dbl&gt;</th></tr>\n",
       "</thead>\n",
       "<tbody>\n",
       "\t<tr><th scope=row>1</th><td>2023-06-15 18:00:00</td><td>4</td><td>0.6666667</td><td>0.6666667</td><td>0.4090909</td><td>1</td><td>0.4054054</td><td>0.1</td><td>0.4166667</td><td>1</td><td>0</td><td>0</td></tr>\n",
       "\t<tr><th scope=row>2</th><td>2023-06-15 19:00:00</td><td>4</td><td>0.5000000</td><td>0.5000000</td><td>0.3181818</td><td>1</td><td>0.5945946</td><td>0.0</td><td>0.3333333</td><td>1</td><td>0</td><td>0</td></tr>\n",
       "\t<tr><th scope=row>3</th><td>2023-06-15 20:00:00</td><td>4</td><td>0.3333333</td><td>0.3333333</td><td>0.2727273</td><td>1</td><td>0.6486486</td><td>0.0</td><td>0.3333333</td><td>1</td><td>0</td><td>0</td></tr>\n",
       "\t<tr><th scope=row>4</th><td>2023-06-15 21:00:00</td><td>0</td><td>0.3333333</td><td>0.3333333</td><td>0.2272727</td><td>1</td><td>0.7027027</td><td>0.0</td><td>0.2500000</td><td>1</td><td>0</td><td>0</td></tr>\n",
       "\t<tr><th scope=row>5</th><td>2023-06-15 22:00:00</td><td>0</td><td>0.3333333</td><td>0.3333333</td><td>0.1818182</td><td>1</td><td>0.7567568</td><td>0.0</td><td>0.1666667</td><td>1</td><td>0</td><td>0</td></tr>\n",
       "\t<tr><th scope=row>6</th><td>2023-06-15 23:00:00</td><td>0</td><td>0.1666667</td><td>0.3333333</td><td>0.1818182</td><td>1</td><td>0.8108108</td><td>0.0</td><td>0.1666667</td><td>1</td><td>0</td><td>0</td></tr>\n",
       "</tbody>\n",
       "</table>\n"
      ],
      "text/latex": [
       "A data.frame: 6 × 12\n",
       "\\begin{tabular}{r|llllllllllll}\n",
       "  & DATE & CHANCE\\_OF\\_PRECIPITATION & TEMPERATURE & FEELS\\_LIKE\\_TEMPERATURE & WIND\\_GUST & VISIBILITY & HUMIDITY & UV & SPEED & B & S & W\\\\\n",
       "  & <chr> & <fct> & <dbl> & <dbl> & <dbl> & <dbl> & <dbl> & <dbl> & <dbl> & <dbl> & <dbl> & <dbl>\\\\\n",
       "\\hline\n",
       "\t1 & 2023-06-15 18:00:00 & 4 & 0.6666667 & 0.6666667 & 0.4090909 & 1 & 0.4054054 & 0.1 & 0.4166667 & 1 & 0 & 0\\\\\n",
       "\t2 & 2023-06-15 19:00:00 & 4 & 0.5000000 & 0.5000000 & 0.3181818 & 1 & 0.5945946 & 0.0 & 0.3333333 & 1 & 0 & 0\\\\\n",
       "\t3 & 2023-06-15 20:00:00 & 4 & 0.3333333 & 0.3333333 & 0.2727273 & 1 & 0.6486486 & 0.0 & 0.3333333 & 1 & 0 & 0\\\\\n",
       "\t4 & 2023-06-15 21:00:00 & 0 & 0.3333333 & 0.3333333 & 0.2272727 & 1 & 0.7027027 & 0.0 & 0.2500000 & 1 & 0 & 0\\\\\n",
       "\t5 & 2023-06-15 22:00:00 & 0 & 0.3333333 & 0.3333333 & 0.1818182 & 1 & 0.7567568 & 0.0 & 0.1666667 & 1 & 0 & 0\\\\\n",
       "\t6 & 2023-06-15 23:00:00 & 0 & 0.1666667 & 0.3333333 & 0.1818182 & 1 & 0.8108108 & 0.0 & 0.1666667 & 1 & 0 & 0\\\\\n",
       "\\end{tabular}\n"
      ],
      "text/markdown": [
       "\n",
       "A data.frame: 6 × 12\n",
       "\n",
       "| <!--/--> | DATE &lt;chr&gt; | CHANCE_OF_PRECIPITATION &lt;fct&gt; | TEMPERATURE &lt;dbl&gt; | FEELS_LIKE_TEMPERATURE &lt;dbl&gt; | WIND_GUST &lt;dbl&gt; | VISIBILITY &lt;dbl&gt; | HUMIDITY &lt;dbl&gt; | UV &lt;dbl&gt; | SPEED &lt;dbl&gt; | B &lt;dbl&gt; | S &lt;dbl&gt; | W &lt;dbl&gt; |\n",
       "|---|---|---|---|---|---|---|---|---|---|---|---|---|\n",
       "| 1 | 2023-06-15 18:00:00 | 4 | 0.6666667 | 0.6666667 | 0.4090909 | 1 | 0.4054054 | 0.1 | 0.4166667 | 1 | 0 | 0 |\n",
       "| 2 | 2023-06-15 19:00:00 | 4 | 0.5000000 | 0.5000000 | 0.3181818 | 1 | 0.5945946 | 0.0 | 0.3333333 | 1 | 0 | 0 |\n",
       "| 3 | 2023-06-15 20:00:00 | 4 | 0.3333333 | 0.3333333 | 0.2727273 | 1 | 0.6486486 | 0.0 | 0.3333333 | 1 | 0 | 0 |\n",
       "| 4 | 2023-06-15 21:00:00 | 0 | 0.3333333 | 0.3333333 | 0.2272727 | 1 | 0.7027027 | 0.0 | 0.2500000 | 1 | 0 | 0 |\n",
       "| 5 | 2023-06-15 22:00:00 | 0 | 0.3333333 | 0.3333333 | 0.1818182 | 1 | 0.7567568 | 0.0 | 0.1666667 | 1 | 0 | 0 |\n",
       "| 6 | 2023-06-15 23:00:00 | 0 | 0.1666667 | 0.3333333 | 0.1818182 | 1 | 0.8108108 | 0.0 | 0.1666667 | 1 | 0 | 0 |\n",
       "\n"
      ],
      "text/plain": [
       "  DATE                CHANCE_OF_PRECIPITATION TEMPERATURE\n",
       "1 2023-06-15 18:00:00 4                       0.6666667  \n",
       "2 2023-06-15 19:00:00 4                       0.5000000  \n",
       "3 2023-06-15 20:00:00 4                       0.3333333  \n",
       "4 2023-06-15 21:00:00 0                       0.3333333  \n",
       "5 2023-06-15 22:00:00 0                       0.3333333  \n",
       "6 2023-06-15 23:00:00 0                       0.1666667  \n",
       "  FEELS_LIKE_TEMPERATURE WIND_GUST VISIBILITY HUMIDITY  UV  SPEED     B S W\n",
       "1 0.6666667              0.4090909 1          0.4054054 0.1 0.4166667 1 0 0\n",
       "2 0.5000000              0.3181818 1          0.5945946 0.0 0.3333333 1 0 0\n",
       "3 0.3333333              0.2727273 1          0.6486486 0.0 0.3333333 1 0 0\n",
       "4 0.3333333              0.2272727 1          0.7027027 0.0 0.2500000 1 0 0\n",
       "5 0.3333333              0.1818182 1          0.7567568 0.0 0.1666667 1 0 0\n",
       "6 0.3333333              0.1818182 1          0.8108108 0.0 0.1666667 1 0 0"
      ]
     },
     "metadata": {},
     "output_type": "display_data"
    }
   ],
   "source": [
    "head(df)"
   ]
  },
  {
   "cell_type": "markdown",
   "id": "42289d21",
   "metadata": {},
   "source": [
    "## Save data for building model"
   ]
  },
  {
   "cell_type": "code",
   "execution_count": 17,
   "id": "5c173bb0",
   "metadata": {},
   "outputs": [],
   "source": [
    "write.csv(df,'out_put_3.csv',row.names=FALSE)"
   ]
  },
  {
   "cell_type": "code",
   "execution_count": null,
   "id": "7d82bc50",
   "metadata": {},
   "outputs": [],
   "source": []
  },
  {
   "cell_type": "code",
   "execution_count": null,
   "id": "7b29c5e8",
   "metadata": {},
   "outputs": [],
   "source": []
  }
 ],
 "metadata": {
  "kernelspec": {
   "display_name": "R",
   "language": "R",
   "name": "ir"
  },
  "language_info": {
   "codemirror_mode": "r",
   "file_extension": ".r",
   "mimetype": "text/x-r-source",
   "name": "R",
   "pygments_lexer": "r",
   "version": "4.3.0"
  }
 },
 "nbformat": 4,
 "nbformat_minor": 5
}
