{
 "cells": [
  {
   "cell_type": "markdown",
   "id": "830e381d",
   "metadata": {},
   "source": [
    "# Exploratory Data Analysis"
   ]
  },
  {
   "cell_type": "markdown",
   "id": "c65675d1",
   "metadata": {},
   "source": [
    "## Import library and data"
   ]
  },
  {
   "cell_type": "code",
   "execution_count": 1,
   "id": "86e28624",
   "metadata": {},
   "outputs": [
    {
     "name": "stderr",
     "output_type": "stream",
     "text": [
      "Warning message:\n",
      "\"package 'stringr' was built under R version 4.3.1\"\n",
      "── \u001b[1mAttaching core tidyverse packages\u001b[22m ──────────────────────────────────────────────────────────────── tidyverse 2.0.0 ──\n",
      "\u001b[32m✔\u001b[39m \u001b[34mdplyr    \u001b[39m 1.1.2     \u001b[32m✔\u001b[39m \u001b[34mreadr    \u001b[39m 2.1.4\n",
      "\u001b[32m✔\u001b[39m \u001b[34mforcats  \u001b[39m 1.0.0     \u001b[32m✔\u001b[39m \u001b[34mstringr  \u001b[39m 1.5.0\n",
      "\u001b[32m✔\u001b[39m \u001b[34mggplot2  \u001b[39m 3.4.2     \u001b[32m✔\u001b[39m \u001b[34mtibble   \u001b[39m 3.2.1\n",
      "\u001b[32m✔\u001b[39m \u001b[34mlubridate\u001b[39m 1.9.2     \u001b[32m✔\u001b[39m \u001b[34mtidyr    \u001b[39m 1.3.0\n",
      "\u001b[32m✔\u001b[39m \u001b[34mpurrr    \u001b[39m 1.0.1     \n",
      "── \u001b[1mConflicts\u001b[22m ────────────────────────────────────────────────────────────────────────────────── tidyverse_conflicts() ──\n",
      "\u001b[31m✖\u001b[39m \u001b[34mdplyr\u001b[39m::\u001b[32mfilter()\u001b[39m masks \u001b[34mstats\u001b[39m::filter()\n",
      "\u001b[31m✖\u001b[39m \u001b[34mdplyr\u001b[39m::\u001b[32mlag()\u001b[39m    masks \u001b[34mstats\u001b[39m::lag()\n",
      "\u001b[36mℹ\u001b[39m Use the conflicted package (\u001b[3m\u001b[34m<http://conflicted.r-lib.org/>\u001b[39m\u001b[23m) to force all conflicts to become errors\n"
     ]
    }
   ],
   "source": [
    "library(tidyverse)"
   ]
  },
  {
   "cell_type": "code",
   "execution_count": 2,
   "id": "073f1982",
   "metadata": {},
   "outputs": [],
   "source": [
    "df <- read.csv('ouput_process.csv')"
   ]
  },
  {
   "cell_type": "markdown",
   "id": "eb537b45",
   "metadata": {},
   "source": [
    "## Data Understanding"
   ]
  },
  {
   "cell_type": "code",
   "execution_count": 3,
   "id": "bd5527ef",
   "metadata": {},
   "outputs": [
    {
     "data": {
      "text/html": [
       "<style>\n",
       ".list-inline {list-style: none; margin:0; padding: 0}\n",
       ".list-inline>li {display: inline-block}\n",
       ".list-inline>li:not(:last-child)::after {content: \"\\00b7\"; padding: 0 .5ex}\n",
       "</style>\n",
       "<ol class=list-inline><li>414</li><li>10</li></ol>\n"
      ],
      "text/latex": [
       "\\begin{enumerate*}\n",
       "\\item 414\n",
       "\\item 10\n",
       "\\end{enumerate*}\n"
      ],
      "text/markdown": [
       "1. 414\n",
       "2. 10\n",
       "\n",
       "\n"
      ],
      "text/plain": [
       "[1] 414  10"
      ]
     },
     "metadata": {},
     "output_type": "display_data"
    }
   ],
   "source": [
    "dim(df)"
   ]
  },
  {
   "cell_type": "code",
   "execution_count": 4,
   "id": "a1f43850",
   "metadata": {},
   "outputs": [
    {
     "data": {
      "text/html": [
       "<table class=\"dataframe\">\n",
       "<caption>A data.frame: 6 × 10</caption>\n",
       "<thead>\n",
       "\t<tr><th></th><th scope=col>Date</th><th scope=col>Chance.of.precipitation</th><th scope=col>Temperature</th><th scope=col>Feels.like.temperature..C</th><th scope=col>Wind.gust.mph</th><th scope=col>Visibility</th><th scope=col>Humidity.</th><th scope=col>UV..</th><th scope=col>Wind.direction</th><th scope=col>Speed</th></tr>\n",
       "\t<tr><th></th><th scope=col>&lt;chr&gt;</th><th scope=col>&lt;int&gt;</th><th scope=col>&lt;int&gt;</th><th scope=col>&lt;int&gt;</th><th scope=col>&lt;int&gt;</th><th scope=col>&lt;chr&gt;</th><th scope=col>&lt;int&gt;</th><th scope=col>&lt;int&gt;</th><th scope=col>&lt;chr&gt;</th><th scope=col>&lt;int&gt;</th></tr>\n",
       "</thead>\n",
       "<tbody>\n",
       "\t<tr><th scope=row>1</th><td>2023-06-15 18:00:00</td><td>60</td><td>30</td><td>33</td><td>13</td><td>VG</td><td>73</td><td>1</td><td>WSW</td><td>7</td></tr>\n",
       "\t<tr><th scope=row>2</th><td>2023-06-15 19:00:00</td><td>60</td><td>29</td><td>32</td><td>11</td><td>VG</td><td>80</td><td>0</td><td>WSW</td><td>6</td></tr>\n",
       "\t<tr><th scope=row>3</th><td>2023-06-15 20:00:00</td><td>60</td><td>28</td><td>31</td><td>10</td><td>VG</td><td>82</td><td>0</td><td>WSW</td><td>6</td></tr>\n",
       "\t<tr><th scope=row>4</th><td>2023-06-15 21:00:00</td><td>10</td><td>28</td><td>31</td><td> 9</td><td>VG</td><td>84</td><td>0</td><td>WSW</td><td>5</td></tr>\n",
       "\t<tr><th scope=row>5</th><td>2023-06-15 22:00:00</td><td>10</td><td>28</td><td>31</td><td> 8</td><td>VG</td><td>86</td><td>0</td><td>SW </td><td>4</td></tr>\n",
       "\t<tr><th scope=row>6</th><td>2023-06-15 23:00:00</td><td>10</td><td>27</td><td>31</td><td> 8</td><td>VG</td><td>88</td><td>0</td><td>SW </td><td>4</td></tr>\n",
       "</tbody>\n",
       "</table>\n"
      ],
      "text/latex": [
       "A data.frame: 6 × 10\n",
       "\\begin{tabular}{r|llllllllll}\n",
       "  & Date & Chance.of.precipitation & Temperature & Feels.like.temperature..C & Wind.gust.mph & Visibility & Humidity. & UV.. & Wind.direction & Speed\\\\\n",
       "  & <chr> & <int> & <int> & <int> & <int> & <chr> & <int> & <int> & <chr> & <int>\\\\\n",
       "\\hline\n",
       "\t1 & 2023-06-15 18:00:00 & 60 & 30 & 33 & 13 & VG & 73 & 1 & WSW & 7\\\\\n",
       "\t2 & 2023-06-15 19:00:00 & 60 & 29 & 32 & 11 & VG & 80 & 0 & WSW & 6\\\\\n",
       "\t3 & 2023-06-15 20:00:00 & 60 & 28 & 31 & 10 & VG & 82 & 0 & WSW & 6\\\\\n",
       "\t4 & 2023-06-15 21:00:00 & 10 & 28 & 31 &  9 & VG & 84 & 0 & WSW & 5\\\\\n",
       "\t5 & 2023-06-15 22:00:00 & 10 & 28 & 31 &  8 & VG & 86 & 0 & SW  & 4\\\\\n",
       "\t6 & 2023-06-15 23:00:00 & 10 & 27 & 31 &  8 & VG & 88 & 0 & SW  & 4\\\\\n",
       "\\end{tabular}\n"
      ],
      "text/markdown": [
       "\n",
       "A data.frame: 6 × 10\n",
       "\n",
       "| <!--/--> | Date &lt;chr&gt; | Chance.of.precipitation &lt;int&gt; | Temperature &lt;int&gt; | Feels.like.temperature..C &lt;int&gt; | Wind.gust.mph &lt;int&gt; | Visibility &lt;chr&gt; | Humidity. &lt;int&gt; | UV.. &lt;int&gt; | Wind.direction &lt;chr&gt; | Speed &lt;int&gt; |\n",
       "|---|---|---|---|---|---|---|---|---|---|---|\n",
       "| 1 | 2023-06-15 18:00:00 | 60 | 30 | 33 | 13 | VG | 73 | 1 | WSW | 7 |\n",
       "| 2 | 2023-06-15 19:00:00 | 60 | 29 | 32 | 11 | VG | 80 | 0 | WSW | 6 |\n",
       "| 3 | 2023-06-15 20:00:00 | 60 | 28 | 31 | 10 | VG | 82 | 0 | WSW | 6 |\n",
       "| 4 | 2023-06-15 21:00:00 | 10 | 28 | 31 |  9 | VG | 84 | 0 | WSW | 5 |\n",
       "| 5 | 2023-06-15 22:00:00 | 10 | 28 | 31 |  8 | VG | 86 | 0 | SW  | 4 |\n",
       "| 6 | 2023-06-15 23:00:00 | 10 | 27 | 31 |  8 | VG | 88 | 0 | SW  | 4 |\n",
       "\n"
      ],
      "text/plain": [
       "  Date                Chance.of.precipitation Temperature\n",
       "1 2023-06-15 18:00:00 60                      30         \n",
       "2 2023-06-15 19:00:00 60                      29         \n",
       "3 2023-06-15 20:00:00 60                      28         \n",
       "4 2023-06-15 21:00:00 10                      28         \n",
       "5 2023-06-15 22:00:00 10                      28         \n",
       "6 2023-06-15 23:00:00 10                      27         \n",
       "  Feels.like.temperature..C Wind.gust.mph Visibility Humidity. UV..\n",
       "1 33                        13            VG         73        1   \n",
       "2 32                        11            VG         80        0   \n",
       "3 31                        10            VG         82        0   \n",
       "4 31                         9            VG         84        0   \n",
       "5 31                         8            VG         86        0   \n",
       "6 31                         8            VG         88        0   \n",
       "  Wind.direction Speed\n",
       "1 WSW            7    \n",
       "2 WSW            6    \n",
       "3 WSW            6    \n",
       "4 WSW            5    \n",
       "5 SW             4    \n",
       "6 SW             4    "
      ]
     },
     "metadata": {},
     "output_type": "display_data"
    }
   ],
   "source": [
    "head(df)"
   ]
  },
  {
   "cell_type": "code",
   "execution_count": 5,
   "id": "72a8f789",
   "metadata": {},
   "outputs": [
    {
     "data": {
      "text/html": [
       "<style>\n",
       ".list-inline {list-style: none; margin:0; padding: 0}\n",
       ".list-inline>li {display: inline-block}\n",
       ".list-inline>li:not(:last-child)::after {content: \"\\00b7\"; padding: 0 .5ex}\n",
       "</style>\n",
       "<ol class=list-inline><li>'Date'</li><li>'Chance.of.precipitation'</li><li>'Temperature'</li><li>'Feels.like.temperature..C'</li><li>'Wind.gust.mph'</li><li>'Visibility'</li><li>'Humidity.'</li><li>'UV..'</li><li>'Wind.direction'</li><li>'Speed'</li></ol>\n"
      ],
      "text/latex": [
       "\\begin{enumerate*}\n",
       "\\item 'Date'\n",
       "\\item 'Chance.of.precipitation'\n",
       "\\item 'Temperature'\n",
       "\\item 'Feels.like.temperature..C'\n",
       "\\item 'Wind.gust.mph'\n",
       "\\item 'Visibility'\n",
       "\\item 'Humidity.'\n",
       "\\item 'UV..'\n",
       "\\item 'Wind.direction'\n",
       "\\item 'Speed'\n",
       "\\end{enumerate*}\n"
      ],
      "text/markdown": [
       "1. 'Date'\n",
       "2. 'Chance.of.precipitation'\n",
       "3. 'Temperature'\n",
       "4. 'Feels.like.temperature..C'\n",
       "5. 'Wind.gust.mph'\n",
       "6. 'Visibility'\n",
       "7. 'Humidity.'\n",
       "8. 'UV..'\n",
       "9. 'Wind.direction'\n",
       "10. 'Speed'\n",
       "\n",
       "\n"
      ],
      "text/plain": [
       " [1] \"Date\"                      \"Chance.of.precipitation\"  \n",
       " [3] \"Temperature\"               \"Feels.like.temperature..C\"\n",
       " [5] \"Wind.gust.mph\"             \"Visibility\"               \n",
       " [7] \"Humidity.\"                 \"UV..\"                     \n",
       " [9] \"Wind.direction\"            \"Speed\"                    "
      ]
     },
     "metadata": {},
     "output_type": "display_data"
    }
   ],
   "source": [
    "colnames(df)"
   ]
  },
  {
   "cell_type": "code",
   "execution_count": 6,
   "id": "8e964886",
   "metadata": {},
   "outputs": [
    {
     "data": {
      "text/html": [
       "<table class=\"dataframe\">\n",
       "<caption>A data.frame: 10 × 2</caption>\n",
       "<thead>\n",
       "\t<tr><th scope=col>var</th><th scope=col>class</th></tr>\n",
       "\t<tr><th scope=col>&lt;chr&gt;</th><th scope=col>&lt;chr&gt;</th></tr>\n",
       "</thead>\n",
       "<tbody>\n",
       "\t<tr><td>Date                     </td><td>character</td></tr>\n",
       "\t<tr><td>Chance.of.precipitation  </td><td>integer  </td></tr>\n",
       "\t<tr><td>Temperature              </td><td>integer  </td></tr>\n",
       "\t<tr><td>Feels.like.temperature..C</td><td>integer  </td></tr>\n",
       "\t<tr><td>Wind.gust.mph            </td><td>integer  </td></tr>\n",
       "\t<tr><td>Visibility               </td><td>character</td></tr>\n",
       "\t<tr><td>Humidity.                </td><td>integer  </td></tr>\n",
       "\t<tr><td>UV..                     </td><td>integer  </td></tr>\n",
       "\t<tr><td>Wind.direction           </td><td>character</td></tr>\n",
       "\t<tr><td>Speed                    </td><td>integer  </td></tr>\n",
       "</tbody>\n",
       "</table>\n"
      ],
      "text/latex": [
       "A data.frame: 10 × 2\n",
       "\\begin{tabular}{ll}\n",
       " var & class\\\\\n",
       " <chr> & <chr>\\\\\n",
       "\\hline\n",
       "\t Date                      & character\\\\\n",
       "\t Chance.of.precipitation   & integer  \\\\\n",
       "\t Temperature               & integer  \\\\\n",
       "\t Feels.like.temperature..C & integer  \\\\\n",
       "\t Wind.gust.mph             & integer  \\\\\n",
       "\t Visibility                & character\\\\\n",
       "\t Humidity.                 & integer  \\\\\n",
       "\t UV..                      & integer  \\\\\n",
       "\t Wind.direction            & character\\\\\n",
       "\t Speed                     & integer  \\\\\n",
       "\\end{tabular}\n"
      ],
      "text/markdown": [
       "\n",
       "A data.frame: 10 × 2\n",
       "\n",
       "| var &lt;chr&gt; | class &lt;chr&gt; |\n",
       "|---|---|\n",
       "| Date                      | character |\n",
       "| Chance.of.precipitation   | integer   |\n",
       "| Temperature               | integer   |\n",
       "| Feels.like.temperature..C | integer   |\n",
       "| Wind.gust.mph             | integer   |\n",
       "| Visibility                | character |\n",
       "| Humidity.                 | integer   |\n",
       "| UV..                      | integer   |\n",
       "| Wind.direction            | character |\n",
       "| Speed                     | integer   |\n",
       "\n"
      ],
      "text/plain": [
       "   var                       class    \n",
       "1  Date                      character\n",
       "2  Chance.of.precipitation   integer  \n",
       "3  Temperature               integer  \n",
       "4  Feels.like.temperature..C integer  \n",
       "5  Wind.gust.mph             integer  \n",
       "6  Visibility                character\n",
       "7  Humidity.                 integer  \n",
       "8  UV..                      integer  \n",
       "9  Wind.direction            character\n",
       "10 Speed                     integer  "
      ]
     },
     "metadata": {},
     "output_type": "display_data"
    }
   ],
   "source": [
    "df %>% summarize_all(class) %>% gather(var,class)"
   ]
  },
  {
   "cell_type": "code",
   "execution_count": 7,
   "id": "ac0d4992",
   "metadata": {},
   "outputs": [
    {
     "data": {
      "text/plain": [
       "     Date           Chance.of.precipitation  Temperature   \n",
       " Length:414         Min.   : 5.0            Min.   :26.00  \n",
       " Class :character   1st Qu.:10.0            1st Qu.:27.00  \n",
       " Mode  :character   Median :20.0            Median :28.00  \n",
       "                    Mean   :28.6            Mean   :28.32  \n",
       "                    3rd Qu.:40.0            3rd Qu.:30.00  \n",
       "                    Max.   :70.0            Max.   :32.00  \n",
       " Feels.like.temperature..C Wind.gust.mph    Visibility          Humidity.    \n",
       " Min.   :29.00             Min.   : 4.00   Length:414         Min.   :58.00  \n",
       " 1st Qu.:31.00             1st Qu.: 8.00   Class :character   1st Qu.:74.00  \n",
       " Median :31.00             Median :10.00   Mode  :character   Median :84.00  \n",
       " Mean   :31.57             Mean   :11.04                      Mean   :81.61  \n",
       " 3rd Qu.:32.75             3rd Qu.:14.00                      3rd Qu.:90.00  \n",
       " Max.   :35.00             Max.   :26.00                      Max.   :95.00  \n",
       "      UV..        Wind.direction         Speed       \n",
       " Min.   : 0.000   Length:414         Min.   : 2.000  \n",
       " 1st Qu.: 0.000   Class :character   1st Qu.: 4.000  \n",
       " Median : 1.000   Mode  :character   Median : 5.000  \n",
       " Mean   : 2.454                      Mean   : 5.577  \n",
       " 3rd Qu.: 5.000                      3rd Qu.: 7.000  \n",
       " Max.   :10.000                      Max.   :14.000  "
      ]
     },
     "metadata": {},
     "output_type": "display_data"
    }
   ],
   "source": [
    "summary(df) "
   ]
  },
  {
   "cell_type": "markdown",
   "id": "d18a4b87",
   "metadata": {},
   "source": [
    "## Feature Understanding"
   ]
  },
  {
   "cell_type": "markdown",
   "id": "be207400",
   "metadata": {},
   "source": [
    "### Check Name Column"
   ]
  },
  {
   "cell_type": "code",
   "execution_count": 8,
   "id": "9318657d",
   "metadata": {},
   "outputs": [],
   "source": [
    "df <-df %>% mutate(Date=as.POSIXct(Date ,format = \"%Y-%m-%d %H:%M:%S\"))"
   ]
  },
  {
   "cell_type": "code",
   "execution_count": 9,
   "id": "8cb273d4",
   "metadata": {},
   "outputs": [
    {
     "data": {
      "text/html": [
       "<style>\n",
       ".list-inline {list-style: none; margin:0; padding: 0}\n",
       ".list-inline>li {display: inline-block}\n",
       ".list-inline>li:not(:last-child)::after {content: \"\\00b7\"; padding: 0 .5ex}\n",
       "</style>\n",
       "<ol class=list-inline><li>'POSIXct'</li><li>'POSIXt'</li></ol>\n"
      ],
      "text/latex": [
       "\\begin{enumerate*}\n",
       "\\item 'POSIXct'\n",
       "\\item 'POSIXt'\n",
       "\\end{enumerate*}\n"
      ],
      "text/markdown": [
       "1. 'POSIXct'\n",
       "2. 'POSIXt'\n",
       "\n",
       "\n"
      ],
      "text/plain": [
       "[1] \"POSIXct\" \"POSIXt\" "
      ]
     },
     "metadata": {},
     "output_type": "display_data"
    }
   ],
   "source": [
    "class(df$Date)"
   ]
  },
  {
   "cell_type": "code",
   "execution_count": 10,
   "id": "88700c57",
   "metadata": {},
   "outputs": [],
   "source": [
    "colnames(df) <- toupper(colnames(df))"
   ]
  },
  {
   "cell_type": "code",
   "execution_count": 11,
   "id": "3f336708",
   "metadata": {},
   "outputs": [
    {
     "data": {
      "text/html": [
       "<style>\n",
       ".list-inline {list-style: none; margin:0; padding: 0}\n",
       ".list-inline>li {display: inline-block}\n",
       ".list-inline>li:not(:last-child)::after {content: \"\\00b7\"; padding: 0 .5ex}\n",
       "</style>\n",
       "<ol class=list-inline><li>'DATE'</li><li>'CHANCE.OF.PRECIPITATION'</li><li>'TEMPERATURE'</li><li>'FEELS.LIKE.TEMPERATURE..C'</li><li>'WIND.GUST.MPH'</li><li>'VISIBILITY'</li><li>'HUMIDITY.'</li><li>'UV..'</li><li>'WIND.DIRECTION'</li><li>'SPEED'</li></ol>\n"
      ],
      "text/latex": [
       "\\begin{enumerate*}\n",
       "\\item 'DATE'\n",
       "\\item 'CHANCE.OF.PRECIPITATION'\n",
       "\\item 'TEMPERATURE'\n",
       "\\item 'FEELS.LIKE.TEMPERATURE..C'\n",
       "\\item 'WIND.GUST.MPH'\n",
       "\\item 'VISIBILITY'\n",
       "\\item 'HUMIDITY.'\n",
       "\\item 'UV..'\n",
       "\\item 'WIND.DIRECTION'\n",
       "\\item 'SPEED'\n",
       "\\end{enumerate*}\n"
      ],
      "text/markdown": [
       "1. 'DATE'\n",
       "2. 'CHANCE.OF.PRECIPITATION'\n",
       "3. 'TEMPERATURE'\n",
       "4. 'FEELS.LIKE.TEMPERATURE..C'\n",
       "5. 'WIND.GUST.MPH'\n",
       "6. 'VISIBILITY'\n",
       "7. 'HUMIDITY.'\n",
       "8. 'UV..'\n",
       "9. 'WIND.DIRECTION'\n",
       "10. 'SPEED'\n",
       "\n",
       "\n"
      ],
      "text/plain": [
       " [1] \"DATE\"                      \"CHANCE.OF.PRECIPITATION\"  \n",
       " [3] \"TEMPERATURE\"               \"FEELS.LIKE.TEMPERATURE..C\"\n",
       " [5] \"WIND.GUST.MPH\"             \"VISIBILITY\"               \n",
       " [7] \"HUMIDITY.\"                 \"UV..\"                     \n",
       " [9] \"WIND.DIRECTION\"            \"SPEED\"                    "
      ]
     },
     "metadata": {},
     "output_type": "display_data"
    }
   ],
   "source": [
    "colnames(df)"
   ]
  },
  {
   "cell_type": "code",
   "execution_count": 12,
   "id": "b65a2b4b",
   "metadata": {},
   "outputs": [],
   "source": [
    "df <- rename(df, CHANCE_OF_PRECIPITATION = CHANCE.OF.PRECIPITATION, \n",
    "           FEELS_LIKE_TEMPERATURE = FEELS.LIKE.TEMPERATURE..C ,\n",
    "           WIND_GUST = WIND.GUST.MPH ,\n",
    "           HUMIDITY = HUMIDITY.,      \n",
    "           UV = UV.. ,\n",
    "           WIND_DIRECTION = WIND.DIRECTION   \n",
    "      )"
   ]
  },
  {
   "cell_type": "markdown",
   "id": "1c697c02",
   "metadata": {},
   "source": [
    "## Feature Understanding"
   ]
  },
  {
   "cell_type": "code",
   "execution_count": 13,
   "id": "274af636",
   "metadata": {},
   "outputs": [
    {
     "data": {
      "text/html": [
       "<table class=\"dataframe\">\n",
       "<caption>A data.frame: 6 × 10</caption>\n",
       "<thead>\n",
       "\t<tr><th></th><th scope=col>DATE</th><th scope=col>CHANCE_OF_PRECIPITATION</th><th scope=col>TEMPERATURE</th><th scope=col>FEELS_LIKE_TEMPERATURE</th><th scope=col>WIND_GUST</th><th scope=col>VISIBILITY</th><th scope=col>HUMIDITY</th><th scope=col>UV</th><th scope=col>WIND_DIRECTION</th><th scope=col>SPEED</th></tr>\n",
       "\t<tr><th></th><th scope=col>&lt;dttm&gt;</th><th scope=col>&lt;int&gt;</th><th scope=col>&lt;int&gt;</th><th scope=col>&lt;int&gt;</th><th scope=col>&lt;int&gt;</th><th scope=col>&lt;chr&gt;</th><th scope=col>&lt;int&gt;</th><th scope=col>&lt;int&gt;</th><th scope=col>&lt;chr&gt;</th><th scope=col>&lt;int&gt;</th></tr>\n",
       "</thead>\n",
       "<tbody>\n",
       "\t<tr><th scope=row>1</th><td>2023-06-15 18:00:00</td><td>60</td><td>30</td><td>33</td><td>13</td><td>VG</td><td>73</td><td>1</td><td>WSW</td><td>7</td></tr>\n",
       "\t<tr><th scope=row>2</th><td>2023-06-15 19:00:00</td><td>60</td><td>29</td><td>32</td><td>11</td><td>VG</td><td>80</td><td>0</td><td>WSW</td><td>6</td></tr>\n",
       "\t<tr><th scope=row>3</th><td>2023-06-15 20:00:00</td><td>60</td><td>28</td><td>31</td><td>10</td><td>VG</td><td>82</td><td>0</td><td>WSW</td><td>6</td></tr>\n",
       "\t<tr><th scope=row>4</th><td>2023-06-15 21:00:00</td><td>10</td><td>28</td><td>31</td><td> 9</td><td>VG</td><td>84</td><td>0</td><td>WSW</td><td>5</td></tr>\n",
       "\t<tr><th scope=row>5</th><td>2023-06-15 22:00:00</td><td>10</td><td>28</td><td>31</td><td> 8</td><td>VG</td><td>86</td><td>0</td><td>SW </td><td>4</td></tr>\n",
       "\t<tr><th scope=row>6</th><td>2023-06-15 23:00:00</td><td>10</td><td>27</td><td>31</td><td> 8</td><td>VG</td><td>88</td><td>0</td><td>SW </td><td>4</td></tr>\n",
       "</tbody>\n",
       "</table>\n"
      ],
      "text/latex": [
       "A data.frame: 6 × 10\n",
       "\\begin{tabular}{r|llllllllll}\n",
       "  & DATE & CHANCE\\_OF\\_PRECIPITATION & TEMPERATURE & FEELS\\_LIKE\\_TEMPERATURE & WIND\\_GUST & VISIBILITY & HUMIDITY & UV & WIND\\_DIRECTION & SPEED\\\\\n",
       "  & <dttm> & <int> & <int> & <int> & <int> & <chr> & <int> & <int> & <chr> & <int>\\\\\n",
       "\\hline\n",
       "\t1 & 2023-06-15 18:00:00 & 60 & 30 & 33 & 13 & VG & 73 & 1 & WSW & 7\\\\\n",
       "\t2 & 2023-06-15 19:00:00 & 60 & 29 & 32 & 11 & VG & 80 & 0 & WSW & 6\\\\\n",
       "\t3 & 2023-06-15 20:00:00 & 60 & 28 & 31 & 10 & VG & 82 & 0 & WSW & 6\\\\\n",
       "\t4 & 2023-06-15 21:00:00 & 10 & 28 & 31 &  9 & VG & 84 & 0 & WSW & 5\\\\\n",
       "\t5 & 2023-06-15 22:00:00 & 10 & 28 & 31 &  8 & VG & 86 & 0 & SW  & 4\\\\\n",
       "\t6 & 2023-06-15 23:00:00 & 10 & 27 & 31 &  8 & VG & 88 & 0 & SW  & 4\\\\\n",
       "\\end{tabular}\n"
      ],
      "text/markdown": [
       "\n",
       "A data.frame: 6 × 10\n",
       "\n",
       "| <!--/--> | DATE &lt;dttm&gt; | CHANCE_OF_PRECIPITATION &lt;int&gt; | TEMPERATURE &lt;int&gt; | FEELS_LIKE_TEMPERATURE &lt;int&gt; | WIND_GUST &lt;int&gt; | VISIBILITY &lt;chr&gt; | HUMIDITY &lt;int&gt; | UV &lt;int&gt; | WIND_DIRECTION &lt;chr&gt; | SPEED &lt;int&gt; |\n",
       "|---|---|---|---|---|---|---|---|---|---|---|\n",
       "| 1 | 2023-06-15 18:00:00 | 60 | 30 | 33 | 13 | VG | 73 | 1 | WSW | 7 |\n",
       "| 2 | 2023-06-15 19:00:00 | 60 | 29 | 32 | 11 | VG | 80 | 0 | WSW | 6 |\n",
       "| 3 | 2023-06-15 20:00:00 | 60 | 28 | 31 | 10 | VG | 82 | 0 | WSW | 6 |\n",
       "| 4 | 2023-06-15 21:00:00 | 10 | 28 | 31 |  9 | VG | 84 | 0 | WSW | 5 |\n",
       "| 5 | 2023-06-15 22:00:00 | 10 | 28 | 31 |  8 | VG | 86 | 0 | SW  | 4 |\n",
       "| 6 | 2023-06-15 23:00:00 | 10 | 27 | 31 |  8 | VG | 88 | 0 | SW  | 4 |\n",
       "\n"
      ],
      "text/plain": [
       "  DATE                CHANCE_OF_PRECIPITATION TEMPERATURE\n",
       "1 2023-06-15 18:00:00 60                      30         \n",
       "2 2023-06-15 19:00:00 60                      29         \n",
       "3 2023-06-15 20:00:00 60                      28         \n",
       "4 2023-06-15 21:00:00 10                      28         \n",
       "5 2023-06-15 22:00:00 10                      28         \n",
       "6 2023-06-15 23:00:00 10                      27         \n",
       "  FEELS_LIKE_TEMPERATURE WIND_GUST VISIBILITY HUMIDITY UV WIND_DIRECTION SPEED\n",
       "1 33                     13        VG         73       1  WSW            7    \n",
       "2 32                     11        VG         80       0  WSW            6    \n",
       "3 31                     10        VG         82       0  WSW            6    \n",
       "4 31                      9        VG         84       0  WSW            5    \n",
       "5 31                      8        VG         86       0  SW             4    \n",
       "6 31                      8        VG         88       0  SW             4    "
      ]
     },
     "metadata": {},
     "output_type": "display_data"
    }
   ],
   "source": [
    "head(df)"
   ]
  },
  {
   "cell_type": "markdown",
   "id": "d3d71c99",
   "metadata": {},
   "source": [
    "##### Target Variable: `CHANCE_OF_PRECIPITATION`"
   ]
  },
  {
   "cell_type": "code",
   "execution_count": 14,
   "id": "5c903dcb",
   "metadata": {},
   "outputs": [
    {
     "data": {
      "text/plain": [
       "   Min. 1st Qu.  Median    Mean 3rd Qu.    Max. \n",
       "    5.0    10.0    20.0    28.6    40.0    70.0 "
      ]
     },
     "metadata": {},
     "output_type": "display_data"
    },
    {
     "data": {
      "text/html": [
       "'integer'"
      ],
      "text/latex": [
       "'integer'"
      ],
      "text/markdown": [
       "'integer'"
      ],
      "text/plain": [
       "[1] \"integer\""
      ]
     },
     "metadata": {},
     "output_type": "display_data"
    }
   ],
   "source": [
    "summary(df$CHANCE_OF_PRECIPITATION)\n",
    "class(df$CHANCE_OF_PRECIPITATION)"
   ]
  },
  {
   "cell_type": "code",
   "execution_count": 15,
   "id": "b584ac97",
   "metadata": {},
   "outputs": [
    {
     "data": {
      "text/plain": [
       "\n",
       "  5  10  20  30  40  50  60  70 \n",
       " 30 170   9  38  70  17  58  22 "
      ]
     },
     "metadata": {},
     "output_type": "display_data"
    }
   ],
   "source": [
    "table(df$CHANCE_OF_PRECIPITATION)"
   ]
  },
  {
   "cell_type": "markdown",
   "id": "8444aeba",
   "metadata": {},
   "source": [
    "- Giá trị thay đổi trong khoảng từ 5-70"
   ]
  },
  {
   "cell_type": "code",
   "execution_count": 16,
   "id": "6aba6a5a",
   "metadata": {},
   "outputs": [
    {
     "data": {
      "image/png": "[encoded data removed]",
      "text/plain": [
       "Plot with title \"Histogram of CHANCE_OF_PRECIPITATION\""
      ]
     },
     "metadata": {
      "image/png": {
       "height": 420,
       "width": 420
      }
     },
     "output_type": "display_data"
    }
   ],
   "source": [
    "hist(df$CHANCE_OF_PRECIPITATION, main = \"Histogram of CHANCE_OF_PRECIPITATION\")"
   ]
  },
  {
   "cell_type": "code",
   "execution_count": 17,
   "id": "3cfc7010",
   "metadata": {},
   "outputs": [
    {
     "name": "stderr",
     "output_type": "stream",
     "text": [
      "Warning message:\n",
      "\"\u001b[1m\u001b[22mUsing `size` aesthetic for lines was deprecated in ggplot2 3.4.0.\n",
      "\u001b[36mℹ\u001b[39m Please use `linewidth` instead.\"\n"
     ]
    },
    {
     "data": {
      "image/png": "[encoded data removed]",
      "text/plain": [
       "plot without title"
      ]
     },
     "metadata": {
      "image/png": {
       "height": 420,
       "width": 420
      }
     },
     "output_type": "display_data"
    }
   ],
   "source": [
    "ggplot(df, aes(x = CHANCE_OF_PRECIPITATION)) +\n",
    "  geom_density(color = \"red\", size = 1) +\n",
    "  labs(title = \"Density Plot of CHANCE_OF_PRECIPITATION\", x = \"CHANCE_OF_PRECIPITATION\", y = \"Density\") +\n",
    "  theme_minimal()"
   ]
  },
  {
   "cell_type": "markdown",
   "id": "b858bada",
   "metadata": {},
   "source": [
    "The data is concentrated at 5-10%, which means the weather is mostly no rain\n",
    "- The reason is that the data is collected around June-July, which is the transition period between the rainy and sunny seasons in HCMC, so most of the time it will be sunny and there are some places with rain."
   ]
  },
  {
   "cell_type": "markdown",
   "id": "4b6394cf",
   "metadata": {},
   "source": [
    "### Character variable"
   ]
  },
  {
   "cell_type": "markdown",
   "id": "6e06cd25",
   "metadata": {},
   "source": [
    "`VISIBILITY`"
   ]
  },
  {
   "cell_type": "code",
   "execution_count": 18,
   "id": "a91ac7b3",
   "metadata": {},
   "outputs": [
    {
     "data": {
      "text/plain": [
       "\n",
       "  G  VG \n",
       "118 296 "
      ]
     },
     "metadata": {},
     "output_type": "display_data"
    }
   ],
   "source": [
    "table(df$VISIBILITY)"
   ]
  },
  {
   "cell_type": "code",
   "execution_count": 19,
   "id": "bd362125",
   "metadata": {},
   "outputs": [
    {
     "data": {
      "image/png": "[encoded data removed]",
      "text/plain": [
       "plot without title"
      ]
     },
     "metadata": {
      "image/png": {
       "height": 420,
       "width": 420
      }
     },
     "output_type": "display_data"
    }
   ],
   "source": [
    "ggplot(df, aes(x = \"\", fill = VISIBILITY)) +\n",
    "  geom_bar(width = 1) +\n",
    "  coord_polar(\"y\") +\n",
    "  labs(title = \"Pie Chart of VISIBILITY\", fill = \"VISIBILITY\") +\n",
    "  scale_fill_manual(values = c(\"steelblue\", \"orange\")) +\n",
    "  theme_void()"
   ]
  },
  {
   "cell_type": "markdown",
   "id": "a900181c",
   "metadata": {},
   "source": [
    "- Visibility is very good, because most of the weather does not rain, so it has little effect on visibility"
   ]
  },
  {
   "cell_type": "code",
   "execution_count": 20,
   "id": "02b6dcac",
   "metadata": {},
   "outputs": [
    {
     "data": {
      "image/png": "[encoded data removed]",
      "text/plain": [
       "plot without title"
      ]
     },
     "metadata": {
      "image/png": {
       "height": 420,
       "width": 420
      }
     },
     "output_type": "display_data"
    }
   ],
   "source": [
    "ggplot(df, aes(x = CHANCE_OF_PRECIPITATION, fill = VISIBILITY)) +\n",
    "  geom_bar() +\n",
    "  labs(title = \"Combined Bar Plot: CHANCE_OF_PRECIPITATION vs. VISIBILITY\", x = \"CHANCE_OF_PRECIPITATION\", y = \"Count\") +\n",
    "  theme_minimal()"
   ]
  },
  {
   "cell_type": "markdown",
   "id": "14beca95",
   "metadata": {},
   "source": [
    "When the percentage of rain is high, about 60-70%, visibility is also limited\n",
    "-The simple reason is that it's raining, which will limit visibility\n",
    "\n",
    "From there we can see that the data is also quite correlated with reality"
   ]
  },
  {
   "cell_type": "markdown",
   "id": "3b76e6b9",
   "metadata": {},
   "source": [
    "`WIND_DIRECTION`"
   ]
  },
  {
   "cell_type": "code",
   "execution_count": 21,
   "id": "5ce34d73",
   "metadata": {},
   "outputs": [
    {
     "data": {
      "text/plain": [
       "\n",
       "ESE NNE NNW  NW   S  SE SSE SSW  SW   W WNW WSW \n",
       "  4   1   1   6  29   3  24  91  84  69  12  90 "
      ]
     },
     "metadata": {},
     "output_type": "display_data"
    }
   ],
   "source": [
    "table(df$WIND_DIRECTION)"
   ]
  },
  {
   "cell_type": "code",
   "execution_count": 22,
   "id": "a8145fea",
   "metadata": {},
   "outputs": [
    {
     "name": "stderr",
     "output_type": "stream",
     "text": [
      "Warning message:\n",
      "\"\u001b[1m\u001b[22mThe dot-dot notation (`..count..`) was deprecated in ggplot2 3.4.0.\n",
      "\u001b[36mℹ\u001b[39m Please use `after_stat(count)` instead.\"\n"
     ]
    },
    {
     "data": {
      "image/png": "[encoded data removed]",
      "text/plain": [
       "plot without title"
      ]
     },
     "metadata": {
      "image/png": {
       "height": 420,
       "width": 420
      }
     },
     "output_type": "display_data"
    }
   ],
   "source": [
    "ggplot(df, aes(x = WIND_DIRECTION)) +\n",
    "  geom_bar(fill = \"steelblue\") +\n",
    "  geom_text(stat = \"count\", aes(label = ..count..), vjust = -0.5) +\n",
    "  labs(title = \"Countplot of WIND_DIRECTION\", x = \"WIND_DIRECTION\", y = \"Count\")"
   ]
  },
  {
   "cell_type": "markdown",
   "id": "d72154f0",
   "metadata": {},
   "source": [
    "We have 4 common wind direction groups:\n",
    "- ssw: South-Southwest  \n",
    "- sw: Southwest \n",
    "- w: West \n",
    "- wsw: West-Southwest"
   ]
  },
  {
   "cell_type": "code",
   "execution_count": 23,
   "id": "f512458a",
   "metadata": {},
   "outputs": [
    {
     "name": "stderr",
     "output_type": "stream",
     "text": [
      "Warning message:\n",
      "\"\u001b[1m\u001b[22mGroups with fewer than two data points have been dropped.\"\n",
      "Warning message:\n",
      "\"\u001b[1m\u001b[22mGroups with fewer than two data points have been dropped.\"\n",
      "Warning message in max(ids, na.rm = TRUE):\n",
      "\"no non-missing arguments to max; returning -Inf\"\n",
      "Warning message in max(ids, na.rm = TRUE):\n",
      "\"no non-missing arguments to max; returning -Inf\"\n"
     ]
    },
    {
     "data": {
      "image/png": "[encoded data removed]",
      "text/plain": [
       "plot without title"
      ]
     },
     "metadata": {
      "image/png": {
       "height": 420,
       "width": 420
      }
     },
     "output_type": "display_data"
    }
   ],
   "source": [
    "ggplot(df, aes(x = CHANCE_OF_PRECIPITATION, fill = WIND_DIRECTION)) +\n",
    "  geom_density(alpha = 0.5) +\n",
    "  labs(title = \"Density Plot of CHANCE_OF_PRECIPITATION by WIND_DIRECTION\", x = \"CHANCE_OF_PRECIPITATION\", y = \"Density\") \n"
   ]
  },
  {
   "cell_type": "markdown",
   "id": "557b7339",
   "metadata": {},
   "source": [
    "At a glance, we can make some comments such as:\n",
    "- Wind direction has a great influence on the possibility of rain\n",
    "- Wind direction from S, usually it will rain less\n",
    "- In contrast, the W gios direction gives better rainfall"
   ]
  },
  {
   "cell_type": "markdown",
   "id": "b7c0e395",
   "metadata": {},
   "source": [
    "### Time Series Feature"
   ]
  },
  {
   "cell_type": "code",
   "execution_count": 24,
   "id": "290c140f",
   "metadata": {},
   "outputs": [],
   "source": [
    "count_months <- table(format(df$DATE, \"%m\"))"
   ]
  },
  {
   "cell_type": "code",
   "execution_count": 25,
   "id": "cd9f0ceb",
   "metadata": {},
   "outputs": [
    {
     "data": {
      "image/png": "[encoded data removed]",
      "text/plain": [
       "Plot with title \"Value by Months\""
      ]
     },
     "metadata": {
      "image/png": {
       "height": 420,
       "width": 420
      }
     },
     "output_type": "display_data"
    }
   ],
   "source": [
    "pie(count_months, labels = names(count_months), main = \"Value by Months\")\n"
   ]
  },
  {
   "cell_type": "code",
   "execution_count": 26,
   "id": "ec66bfb7",
   "metadata": {},
   "outputs": [
    {
     "data": {
      "text/html": [
       "<style>\n",
       ".list-inline {list-style: none; margin:0; padding: 0}\n",
       ".list-inline>li {display: inline-block}\n",
       ".list-inline>li:not(:last-child)::after {content: \"\\00b7\"; padding: 0 .5ex}\n",
       "</style>\n",
       "<ol class=list-inline><li>'DATE'</li><li>'CHANCE_OF_PRECIPITATION'</li><li>'TEMPERATURE'</li><li>'FEELS_LIKE_TEMPERATURE'</li><li>'WIND_GUST'</li><li>'VISIBILITY'</li><li>'HUMIDITY'</li><li>'UV'</li><li>'WIND_DIRECTION'</li><li>'SPEED'</li></ol>\n"
      ],
      "text/latex": [
       "\\begin{enumerate*}\n",
       "\\item 'DATE'\n",
       "\\item 'CHANCE\\_OF\\_PRECIPITATION'\n",
       "\\item 'TEMPERATURE'\n",
       "\\item 'FEELS\\_LIKE\\_TEMPERATURE'\n",
       "\\item 'WIND\\_GUST'\n",
       "\\item 'VISIBILITY'\n",
       "\\item 'HUMIDITY'\n",
       "\\item 'UV'\n",
       "\\item 'WIND\\_DIRECTION'\n",
       "\\item 'SPEED'\n",
       "\\end{enumerate*}\n"
      ],
      "text/markdown": [
       "1. 'DATE'\n",
       "2. 'CHANCE_OF_PRECIPITATION'\n",
       "3. 'TEMPERATURE'\n",
       "4. 'FEELS_LIKE_TEMPERATURE'\n",
       "5. 'WIND_GUST'\n",
       "6. 'VISIBILITY'\n",
       "7. 'HUMIDITY'\n",
       "8. 'UV'\n",
       "9. 'WIND_DIRECTION'\n",
       "10. 'SPEED'\n",
       "\n",
       "\n"
      ],
      "text/plain": [
       " [1] \"DATE\"                    \"CHANCE_OF_PRECIPITATION\"\n",
       " [3] \"TEMPERATURE\"             \"FEELS_LIKE_TEMPERATURE\" \n",
       " [5] \"WIND_GUST\"               \"VISIBILITY\"             \n",
       " [7] \"HUMIDITY\"                \"UV\"                     \n",
       " [9] \"WIND_DIRECTION\"          \"SPEED\"                  "
      ]
     },
     "metadata": {},
     "output_type": "display_data"
    }
   ],
   "source": [
    "colnames(df)"
   ]
  },
  {
   "cell_type": "code",
   "execution_count": 27,
   "id": "bbfab87c",
   "metadata": {
    "scrolled": true
   },
   "outputs": [
    {
     "data": {
      "text/html": [
       "<table class=\"dataframe\">\n",
       "<caption>A data.frame: 6 × 10</caption>\n",
       "<thead>\n",
       "\t<tr><th></th><th scope=col>DATE</th><th scope=col>CHANCE_OF_PRECIPITATION</th><th scope=col>TEMPERATURE</th><th scope=col>FEELS_LIKE_TEMPERATURE</th><th scope=col>WIND_GUST</th><th scope=col>VISIBILITY</th><th scope=col>HUMIDITY</th><th scope=col>UV</th><th scope=col>WIND_DIRECTION</th><th scope=col>SPEED</th></tr>\n",
       "\t<tr><th></th><th scope=col>&lt;dttm&gt;</th><th scope=col>&lt;int&gt;</th><th scope=col>&lt;int&gt;</th><th scope=col>&lt;int&gt;</th><th scope=col>&lt;int&gt;</th><th scope=col>&lt;chr&gt;</th><th scope=col>&lt;int&gt;</th><th scope=col>&lt;int&gt;</th><th scope=col>&lt;chr&gt;</th><th scope=col>&lt;int&gt;</th></tr>\n",
       "</thead>\n",
       "<tbody>\n",
       "\t<tr><th scope=row>1</th><td>2023-06-15 18:00:00</td><td>60</td><td>30</td><td>33</td><td>13</td><td>VG</td><td>73</td><td>1</td><td>WSW</td><td>7</td></tr>\n",
       "\t<tr><th scope=row>2</th><td>2023-06-15 19:00:00</td><td>60</td><td>29</td><td>32</td><td>11</td><td>VG</td><td>80</td><td>0</td><td>WSW</td><td>6</td></tr>\n",
       "\t<tr><th scope=row>3</th><td>2023-06-15 20:00:00</td><td>60</td><td>28</td><td>31</td><td>10</td><td>VG</td><td>82</td><td>0</td><td>WSW</td><td>6</td></tr>\n",
       "\t<tr><th scope=row>4</th><td>2023-06-15 21:00:00</td><td>10</td><td>28</td><td>31</td><td> 9</td><td>VG</td><td>84</td><td>0</td><td>WSW</td><td>5</td></tr>\n",
       "\t<tr><th scope=row>5</th><td>2023-06-15 22:00:00</td><td>10</td><td>28</td><td>31</td><td> 8</td><td>VG</td><td>86</td><td>0</td><td>SW </td><td>4</td></tr>\n",
       "\t<tr><th scope=row>6</th><td>2023-06-15 23:00:00</td><td>10</td><td>27</td><td>31</td><td> 8</td><td>VG</td><td>88</td><td>0</td><td>SW </td><td>4</td></tr>\n",
       "</tbody>\n",
       "</table>\n"
      ],
      "text/latex": [
       "A data.frame: 6 × 10\n",
       "\\begin{tabular}{r|llllllllll}\n",
       "  & DATE & CHANCE\\_OF\\_PRECIPITATION & TEMPERATURE & FEELS\\_LIKE\\_TEMPERATURE & WIND\\_GUST & VISIBILITY & HUMIDITY & UV & WIND\\_DIRECTION & SPEED\\\\\n",
       "  & <dttm> & <int> & <int> & <int> & <int> & <chr> & <int> & <int> & <chr> & <int>\\\\\n",
       "\\hline\n",
       "\t1 & 2023-06-15 18:00:00 & 60 & 30 & 33 & 13 & VG & 73 & 1 & WSW & 7\\\\\n",
       "\t2 & 2023-06-15 19:00:00 & 60 & 29 & 32 & 11 & VG & 80 & 0 & WSW & 6\\\\\n",
       "\t3 & 2023-06-15 20:00:00 & 60 & 28 & 31 & 10 & VG & 82 & 0 & WSW & 6\\\\\n",
       "\t4 & 2023-06-15 21:00:00 & 10 & 28 & 31 &  9 & VG & 84 & 0 & WSW & 5\\\\\n",
       "\t5 & 2023-06-15 22:00:00 & 10 & 28 & 31 &  8 & VG & 86 & 0 & SW  & 4\\\\\n",
       "\t6 & 2023-06-15 23:00:00 & 10 & 27 & 31 &  8 & VG & 88 & 0 & SW  & 4\\\\\n",
       "\\end{tabular}\n"
      ],
      "text/markdown": [
       "\n",
       "A data.frame: 6 × 10\n",
       "\n",
       "| <!--/--> | DATE &lt;dttm&gt; | CHANCE_OF_PRECIPITATION &lt;int&gt; | TEMPERATURE &lt;int&gt; | FEELS_LIKE_TEMPERATURE &lt;int&gt; | WIND_GUST &lt;int&gt; | VISIBILITY &lt;chr&gt; | HUMIDITY &lt;int&gt; | UV &lt;int&gt; | WIND_DIRECTION &lt;chr&gt; | SPEED &lt;int&gt; |\n",
       "|---|---|---|---|---|---|---|---|---|---|---|\n",
       "| 1 | 2023-06-15 18:00:00 | 60 | 30 | 33 | 13 | VG | 73 | 1 | WSW | 7 |\n",
       "| 2 | 2023-06-15 19:00:00 | 60 | 29 | 32 | 11 | VG | 80 | 0 | WSW | 6 |\n",
       "| 3 | 2023-06-15 20:00:00 | 60 | 28 | 31 | 10 | VG | 82 | 0 | WSW | 6 |\n",
       "| 4 | 2023-06-15 21:00:00 | 10 | 28 | 31 |  9 | VG | 84 | 0 | WSW | 5 |\n",
       "| 5 | 2023-06-15 22:00:00 | 10 | 28 | 31 |  8 | VG | 86 | 0 | SW  | 4 |\n",
       "| 6 | 2023-06-15 23:00:00 | 10 | 27 | 31 |  8 | VG | 88 | 0 | SW  | 4 |\n",
       "\n"
      ],
      "text/plain": [
       "  DATE                CHANCE_OF_PRECIPITATION TEMPERATURE\n",
       "1 2023-06-15 18:00:00 60                      30         \n",
       "2 2023-06-15 19:00:00 60                      29         \n",
       "3 2023-06-15 20:00:00 60                      28         \n",
       "4 2023-06-15 21:00:00 10                      28         \n",
       "5 2023-06-15 22:00:00 10                      28         \n",
       "6 2023-06-15 23:00:00 10                      27         \n",
       "  FEELS_LIKE_TEMPERATURE WIND_GUST VISIBILITY HUMIDITY UV WIND_DIRECTION SPEED\n",
       "1 33                     13        VG         73       1  WSW            7    \n",
       "2 32                     11        VG         80       0  WSW            6    \n",
       "3 31                     10        VG         82       0  WSW            6    \n",
       "4 31                      9        VG         84       0  WSW            5    \n",
       "5 31                      8        VG         86       0  SW             4    \n",
       "6 31                      8        VG         88       0  SW             4    "
      ]
     },
     "metadata": {},
     "output_type": "display_data"
    }
   ],
   "source": [
    "head(df)"
   ]
  },
  {
   "cell_type": "code",
   "execution_count": 51,
   "id": "a768d7d3",
   "metadata": {},
   "outputs": [
    {
     "name": "stderr",
     "output_type": "stream",
     "text": [
      "Warning message:\n",
      "\"\u001b[1m\u001b[22mRemoved 11 rows containing missing values (`geom_line()`).\"\n"
     ]
    },
    {
     "data": {
      "image/png": "[encoded data removed]",
      "text/plain": [
       "plot without title"
      ]
     },
     "metadata": {
      "image/png": {
       "height": 420,
       "width": 420
      }
     },
     "output_type": "display_data"
    }
   ],
   "source": [
    "ggplot(df, aes(x=DATE, y=CHANCE_OF_PRECIPITATION)) +\n",
    "  geom_line()+\n",
    "# check.overlap avoids label overlapping\n",
    "scale_x_datetime(guide = guide_axis(check.overlap = TRUE))"
   ]
  },
  {
   "cell_type": "code",
   "execution_count": 44,
   "id": "aa802171",
   "metadata": {},
   "outputs": [
    {
     "data": {
      "image/png": "[encoded data removed]",
      "text/plain": [
       "plot without title"
      ]
     },
     "metadata": {
      "image/png": {
       "height": 420,
       "width": 420
      }
     },
     "output_type": "display_data"
    }
   ],
   "source": [
    "plot.ts(y=df$CHANCE_OF_PRECIPITATION,x=df$DATE )"
   ]
  },
  {
   "cell_type": "code",
   "execution_count": 52,
   "id": "4f088efd",
   "metadata": {},
   "outputs": [
    {
     "name": "stderr",
     "output_type": "stream",
     "text": [
      "Warning message:\n",
      "\"\u001b[1m\u001b[22mRemoved 11 rows containing missing values (`geom_line()`).\"\n",
      "Warning message:\n",
      "\"\u001b[1m\u001b[22mRemoved 11 rows containing missing values (`geom_line()`).\"\n",
      "Warning message:\n",
      "\"\u001b[1m\u001b[22mRemoved 11 rows containing missing values (`geom_line()`).\"\n",
      "Warning message:\n",
      "\"\u001b[1m\u001b[22mRemoved 11 rows containing missing values (`geom_line()`).\"\n",
      "Warning message:\n",
      "\"\u001b[1m\u001b[22mRemoved 11 rows containing missing values (`geom_line()`).\"\n",
      "Warning message:\n",
      "\"\u001b[1m\u001b[22mRemoved 11 rows containing missing values (`geom_line()`).\"\n"
     ]
    },
    {
     "data": {
      "image/png": "[encoded data removed]",
      "text/plain": [
       "plot without title"
      ]
     },
     "metadata": {
      "image/png": {
       "height": 420,
       "width": 420
      }
     },
     "output_type": "display_data"
    }
   ],
   "source": [
    "ggplot(df, aes(x = DATE)) +\n",
    "  geom_line(aes(y = TEMPERATURE, color = \"Temperature\")) +\n",
    "  geom_line(aes(y = FEELS_LIKE_TEMPERATURE, color = \"Feels Like Temperature\")) +\n",
    "  geom_line(aes(y = WIND_GUST, color = \"Wind Gust\")) +\n",
    "  geom_line(aes(y = HUMIDITY, color = \"Humidity\")) +\n",
    "  geom_line(aes(y = UV, color = \"UV\")) +\n",
    "  geom_line(aes(y = SPEED, color = \"Speed\")) +\n",
    "  labs(x = \"Date\", y = \"Value\") +\n",
    "  scale_color_manual(values = c(\"Temperature\" = \"blue\", \"Feels Like Temperature\" = \"red\", \n",
    "                                \"Wind Gust\" = \"green\", \"Humidity\" = \"orange\", \n",
    "                                \"UV\" = \"purple\", \"Speed\" = \"brown\")) +\n",
    "  theme_minimal()"
   ]
  },
  {
   "cell_type": "code",
   "execution_count": null,
   "id": "178bcf24",
   "metadata": {},
   "outputs": [],
   "source": []
  }
 ],
 "metadata": {
  "kernelspec": {
   "display_name": "R",
   "language": "R",
   "name": "ir"
  },
  "language_info": {
   "codemirror_mode": "r",
   "file_extension": ".r",
   "mimetype": "text/x-r-source",
   "name": "R",
   "pygments_lexer": "r",
   "version": "4.3.0"
  }
 },
 "nbformat": 4,
 "nbformat_minor": 5
}
