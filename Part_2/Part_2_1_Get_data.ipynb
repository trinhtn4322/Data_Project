{
 "cells": [
  {
   "cell_type": "markdown",
   "id": "e24984ad",
   "metadata": {},
   "source": [
    "# Get data from data warehouse"
   ]
  },
  {
   "cell_type": "code",
   "execution_count": 7,
   "id": "f6b27c68",
   "metadata": {},
   "outputs": [],
   "source": [
    "#I use librart sparklyr to connect and get data from Hadoop\n",
    "library(sparklyr)\n",
    "library(dplyr)"
   ]
  },
  {
   "cell_type": "code",
   "execution_count": 2,
   "id": "050f94d3",
   "metadata": {},
   "outputs": [],
   "source": [
    "spark <- spark_connect(master='local')"
   ]
  },
  {
   "cell_type": "markdown",
   "id": "25072f55",
   "metadata": {},
   "source": [
    "In this code I allow the user to get a sample of data by month.\n",
    "  + Month starts\n",
    "  + Month ends\n",
    "  \n",
    "Depending on the date you crawl data in part1 how much data you will be able to get from datalake"
   ]
  },
  {
   "cell_type": "code",
   "execution_count": 3,
   "id": "f52c91f1",
   "metadata": {},
   "outputs": [
    {
     "name": "stdout",
     "output_type": "stream",
     "text": [
      "Enter month start:6\n",
      "Enter month end:7\n",
      "[1] \"hdfs://localhost:9000/datalake/2023/06/output_weather_in_*\"\n",
      "[1] \"06\"\n",
      "[1] \"hdfs://localhost:9000/datalake/2023/07/output_weather_in_*\"\n",
      "[1] \"07\"\n"
     ]
    }
   ],
   "source": [
    "month_start=as.integer(readline('Enter month start:'))\n",
    "month_end=as.integer(readline('Enter month end:'))\n",
    "df <- data.frame()\n",
    "for (month in (month_start:month_end)){\n",
    "    month<-sprintf(\"%02d\", month)\n",
    "    path=paste0(\"hdfs://localhost:9000/datalake/2023/\",month,\"/output_weather_in_*\")\n",
    "    print(path)\n",
    "    if (month==sprintf(\"%02d\",month_start)){\n",
    "        df <- spark_read_parquet(spark,path=path)\n",
    "        df <-df %>% mutate(Date=as.POSIXct(Date))\n",
    "        df <- df %>% collect()\n",
    "    }\n",
    "    else{\n",
    "        read <- spark_read_parquet(spark,path=path)\n",
    "        read <-read %>% mutate(Date=as.POSIXct(Date))\n",
    "        read <- read %>% collect()\n",
    "        df <- rbind(df,read)\n",
    "    }\n",
    "    print(month)\n",
    "}"
   ]
  },
  {
   "cell_type": "markdown",
   "id": "6fdf560e",
   "metadata": {},
   "source": [
    "I will try 2 months demo is 6 and 7\n",
    "\n",
    "The default year here is 2023, I can completely tweak the date, but since this project is done in 2023 I will default it like that\n",
    "- Path: \"hdfs://localhost:9000/datalake/2023/\",month,\"/output_weather_in_*\""
   ]
  },
  {
   "cell_type": "code",
   "execution_count": 4,
   "id": "20a8b759",
   "metadata": {},
   "outputs": [],
   "source": [
    "# I will rearrange by month to facilitate analysis and processing time seriese"
   ]
  },
  {
   "cell_type": "code",
   "execution_count": 8,
   "id": "777d4a19",
   "metadata": {},
   "outputs": [],
   "source": [
    "df <- arrange(df, Date)"
   ]
  },
  {
   "cell_type": "code",
   "execution_count": 9,
   "id": "dce8b93f",
   "metadata": {},
   "outputs": [
    {
     "data": {
      "text/html": [
       "<style>\n",
       ".list-inline {list-style: none; margin:0; padding: 0}\n",
       ".list-inline>li {display: inline-block}\n",
       ".list-inline>li:not(:last-child)::after {content: \"\\00b7\"; padding: 0 .5ex}\n",
       "</style>\n",
       "<ol class=list-inline><li>353</li><li>10</li></ol>\n"
      ],
      "text/latex": [
       "\\begin{enumerate*}\n",
       "\\item 353\n",
       "\\item 10\n",
       "\\end{enumerate*}\n"
      ],
      "text/markdown": [
       "1. 353\n",
       "2. 10\n",
       "\n",
       "\n"
      ],
      "text/plain": [
       "[1] 353  10"
      ]
     },
     "metadata": {},
     "output_type": "display_data"
    }
   ],
   "source": [
    "dim(df)"
   ]
  },
  {
   "cell_type": "code",
   "execution_count": 10,
   "id": "87b2097b",
   "metadata": {},
   "outputs": [
    {
     "data": {
      "text/html": [
       "<table class=\"dataframe\">\n",
       "<caption>A tibble: 6 × 10</caption>\n",
       "<thead>\n",
       "\t<tr><th scope=col>Date</th><th scope=col>Chance of precipitation</th><th scope=col>Temperature</th><th scope=col>Feels like temperature °C</th><th scope=col>Wind gust mph</th><th scope=col>Visibility</th><th scope=col>Humidity.</th><th scope=col>UV .</th><th scope=col>Wind direction</th><th scope=col>Speed</th></tr>\n",
       "\t<tr><th scope=col>&lt;dttm&gt;</th><th scope=col>&lt;int&gt;</th><th scope=col>&lt;int&gt;</th><th scope=col>&lt;int&gt;</th><th scope=col>&lt;int&gt;</th><th scope=col>&lt;chr&gt;</th><th scope=col>&lt;int&gt;</th><th scope=col>&lt;int&gt;</th><th scope=col>&lt;chr&gt;</th><th scope=col>&lt;int&gt;</th></tr>\n",
       "</thead>\n",
       "<tbody>\n",
       "\t<tr><td>2023-06-15 18:00:00</td><td>60</td><td>30</td><td>33</td><td>13</td><td>VG</td><td>73</td><td>1</td><td>WSW</td><td>7</td></tr>\n",
       "\t<tr><td>2023-06-15 19:00:00</td><td>60</td><td>29</td><td>32</td><td>11</td><td>VG</td><td>80</td><td>0</td><td>WSW</td><td>6</td></tr>\n",
       "\t<tr><td>2023-06-15 20:00:00</td><td>60</td><td>28</td><td>31</td><td>10</td><td>VG</td><td>82</td><td>0</td><td>WSW</td><td>6</td></tr>\n",
       "\t<tr><td>2023-06-15 21:00:00</td><td>10</td><td>28</td><td>31</td><td> 9</td><td>VG</td><td>84</td><td>0</td><td>WSW</td><td>5</td></tr>\n",
       "\t<tr><td>2023-06-15 22:00:00</td><td>10</td><td>28</td><td>31</td><td> 8</td><td>VG</td><td>86</td><td>0</td><td>SW </td><td>4</td></tr>\n",
       "\t<tr><td>2023-06-15 23:00:00</td><td>10</td><td>27</td><td>31</td><td> 8</td><td>VG</td><td>88</td><td>0</td><td>SW </td><td>4</td></tr>\n",
       "</tbody>\n",
       "</table>\n"
      ],
      "text/latex": [
       "A tibble: 6 × 10\n",
       "\\begin{tabular}{llllllllll}\n",
       " Date & Chance of precipitation & Temperature & Feels like temperature °C & Wind gust mph & Visibility & Humidity. & UV . & Wind direction & Speed\\\\\n",
       " <dttm> & <int> & <int> & <int> & <int> & <chr> & <int> & <int> & <chr> & <int>\\\\\n",
       "\\hline\n",
       "\t 2023-06-15 18:00:00 & 60 & 30 & 33 & 13 & VG & 73 & 1 & WSW & 7\\\\\n",
       "\t 2023-06-15 19:00:00 & 60 & 29 & 32 & 11 & VG & 80 & 0 & WSW & 6\\\\\n",
       "\t 2023-06-15 20:00:00 & 60 & 28 & 31 & 10 & VG & 82 & 0 & WSW & 6\\\\\n",
       "\t 2023-06-15 21:00:00 & 10 & 28 & 31 &  9 & VG & 84 & 0 & WSW & 5\\\\\n",
       "\t 2023-06-15 22:00:00 & 10 & 28 & 31 &  8 & VG & 86 & 0 & SW  & 4\\\\\n",
       "\t 2023-06-15 23:00:00 & 10 & 27 & 31 &  8 & VG & 88 & 0 & SW  & 4\\\\\n",
       "\\end{tabular}\n"
      ],
      "text/markdown": [
       "\n",
       "A tibble: 6 × 10\n",
       "\n",
       "| Date &lt;dttm&gt; | Chance of precipitation &lt;int&gt; | Temperature &lt;int&gt; | Feels like temperature °C &lt;int&gt; | Wind gust mph &lt;int&gt; | Visibility &lt;chr&gt; | Humidity. &lt;int&gt; | UV . &lt;int&gt; | Wind direction &lt;chr&gt; | Speed &lt;int&gt; |\n",
       "|---|---|---|---|---|---|---|---|---|---|\n",
       "| 2023-06-15 18:00:00 | 60 | 30 | 33 | 13 | VG | 73 | 1 | WSW | 7 |\n",
       "| 2023-06-15 19:00:00 | 60 | 29 | 32 | 11 | VG | 80 | 0 | WSW | 6 |\n",
       "| 2023-06-15 20:00:00 | 60 | 28 | 31 | 10 | VG | 82 | 0 | WSW | 6 |\n",
       "| 2023-06-15 21:00:00 | 10 | 28 | 31 |  9 | VG | 84 | 0 | WSW | 5 |\n",
       "| 2023-06-15 22:00:00 | 10 | 28 | 31 |  8 | VG | 86 | 0 | SW  | 4 |\n",
       "| 2023-06-15 23:00:00 | 10 | 27 | 31 |  8 | VG | 88 | 0 | SW  | 4 |\n",
       "\n"
      ],
      "text/plain": [
       "  Date                Chance of precipitation Temperature\n",
       "1 2023-06-15 18:00:00 60                      30         \n",
       "2 2023-06-15 19:00:00 60                      29         \n",
       "3 2023-06-15 20:00:00 60                      28         \n",
       "4 2023-06-15 21:00:00 10                      28         \n",
       "5 2023-06-15 22:00:00 10                      28         \n",
       "6 2023-06-15 23:00:00 10                      27         \n",
       "  Feels like temperature °C Wind gust mph Visibility Humidity. UV .\n",
       "1 33                        13            VG         73        1   \n",
       "2 32                        11            VG         80        0   \n",
       "3 31                        10            VG         82        0   \n",
       "4 31                         9            VG         84        0   \n",
       "5 31                         8            VG         86        0   \n",
       "6 31                         8            VG         88        0   \n",
       "  Wind direction Speed\n",
       "1 WSW            7    \n",
       "2 WSW            6    \n",
       "3 WSW            6    \n",
       "4 WSW            5    \n",
       "5 SW             4    \n",
       "6 SW             4    "
      ]
     },
     "metadata": {},
     "output_type": "display_data"
    }
   ],
   "source": [
    "head(df)"
   ]
  },
  {
   "cell_type": "code",
   "execution_count": 11,
   "id": "4b4d16ee",
   "metadata": {},
   "outputs": [
    {
     "data": {
      "text/html": [
       "<table class=\"dataframe\">\n",
       "<caption>A tibble: 6 × 10</caption>\n",
       "<thead>\n",
       "\t<tr><th scope=col>Date</th><th scope=col>Chance of precipitation</th><th scope=col>Temperature</th><th scope=col>Feels like temperature °C</th><th scope=col>Wind gust mph</th><th scope=col>Visibility</th><th scope=col>Humidity.</th><th scope=col>UV .</th><th scope=col>Wind direction</th><th scope=col>Speed</th></tr>\n",
       "\t<tr><th scope=col>&lt;dttm&gt;</th><th scope=col>&lt;int&gt;</th><th scope=col>&lt;int&gt;</th><th scope=col>&lt;int&gt;</th><th scope=col>&lt;int&gt;</th><th scope=col>&lt;chr&gt;</th><th scope=col>&lt;int&gt;</th><th scope=col>&lt;int&gt;</th><th scope=col>&lt;chr&gt;</th><th scope=col>&lt;int&gt;</th></tr>\n",
       "</thead>\n",
       "<tbody>\n",
       "\t<tr><td>2023-07-12 07:00:00</td><td> 5</td><td>27</td><td>30</td><td>10</td><td>VG</td><td>90</td><td>2</td><td>WSW</td><td>5</td></tr>\n",
       "\t<tr><td>2023-07-12 10:00:00</td><td>10</td><td>30</td><td>33</td><td>17</td><td>VG</td><td>73</td><td>8</td><td>W  </td><td>8</td></tr>\n",
       "\t<tr><td>2023-07-12 13:00:00</td><td>40</td><td>31</td><td>34</td><td>17</td><td>VG</td><td>65</td><td>8</td><td>W  </td><td>8</td></tr>\n",
       "\t<tr><td>2023-07-12 16:00:00</td><td>60</td><td>30</td><td>33</td><td>15</td><td>VG</td><td>72</td><td>2</td><td>WSW</td><td>8</td></tr>\n",
       "\t<tr><td>2023-07-12 19:00:00</td><td>30</td><td>28</td><td>31</td><td> 9</td><td>VG</td><td>83</td><td>0</td><td>WSW</td><td>5</td></tr>\n",
       "\t<tr><td>2023-07-12 22:00:00</td><td>30</td><td>27</td><td>30</td><td> 9</td><td>VG</td><td>88</td><td>0</td><td>SW </td><td>5</td></tr>\n",
       "</tbody>\n",
       "</table>\n"
      ],
      "text/latex": [
       "A tibble: 6 × 10\n",
       "\\begin{tabular}{llllllllll}\n",
       " Date & Chance of precipitation & Temperature & Feels like temperature °C & Wind gust mph & Visibility & Humidity. & UV . & Wind direction & Speed\\\\\n",
       " <dttm> & <int> & <int> & <int> & <int> & <chr> & <int> & <int> & <chr> & <int>\\\\\n",
       "\\hline\n",
       "\t 2023-07-12 07:00:00 &  5 & 27 & 30 & 10 & VG & 90 & 2 & WSW & 5\\\\\n",
       "\t 2023-07-12 10:00:00 & 10 & 30 & 33 & 17 & VG & 73 & 8 & W   & 8\\\\\n",
       "\t 2023-07-12 13:00:00 & 40 & 31 & 34 & 17 & VG & 65 & 8 & W   & 8\\\\\n",
       "\t 2023-07-12 16:00:00 & 60 & 30 & 33 & 15 & VG & 72 & 2 & WSW & 8\\\\\n",
       "\t 2023-07-12 19:00:00 & 30 & 28 & 31 &  9 & VG & 83 & 0 & WSW & 5\\\\\n",
       "\t 2023-07-12 22:00:00 & 30 & 27 & 30 &  9 & VG & 88 & 0 & SW  & 5\\\\\n",
       "\\end{tabular}\n"
      ],
      "text/markdown": [
       "\n",
       "A tibble: 6 × 10\n",
       "\n",
       "| Date &lt;dttm&gt; | Chance of precipitation &lt;int&gt; | Temperature &lt;int&gt; | Feels like temperature °C &lt;int&gt; | Wind gust mph &lt;int&gt; | Visibility &lt;chr&gt; | Humidity. &lt;int&gt; | UV . &lt;int&gt; | Wind direction &lt;chr&gt; | Speed &lt;int&gt; |\n",
       "|---|---|---|---|---|---|---|---|---|---|\n",
       "| 2023-07-12 07:00:00 |  5 | 27 | 30 | 10 | VG | 90 | 2 | WSW | 5 |\n",
       "| 2023-07-12 10:00:00 | 10 | 30 | 33 | 17 | VG | 73 | 8 | W   | 8 |\n",
       "| 2023-07-12 13:00:00 | 40 | 31 | 34 | 17 | VG | 65 | 8 | W   | 8 |\n",
       "| 2023-07-12 16:00:00 | 60 | 30 | 33 | 15 | VG | 72 | 2 | WSW | 8 |\n",
       "| 2023-07-12 19:00:00 | 30 | 28 | 31 |  9 | VG | 83 | 0 | WSW | 5 |\n",
       "| 2023-07-12 22:00:00 | 30 | 27 | 30 |  9 | VG | 88 | 0 | SW  | 5 |\n",
       "\n"
      ],
      "text/plain": [
       "  Date                Chance of precipitation Temperature\n",
       "1 2023-07-12 07:00:00  5                      27         \n",
       "2 2023-07-12 10:00:00 10                      30         \n",
       "3 2023-07-12 13:00:00 40                      31         \n",
       "4 2023-07-12 16:00:00 60                      30         \n",
       "5 2023-07-12 19:00:00 30                      28         \n",
       "6 2023-07-12 22:00:00 30                      27         \n",
       "  Feels like temperature °C Wind gust mph Visibility Humidity. UV .\n",
       "1 30                        10            VG         90        2   \n",
       "2 33                        17            VG         73        8   \n",
       "3 34                        17            VG         65        8   \n",
       "4 33                        15            VG         72        2   \n",
       "5 31                         9            VG         83        0   \n",
       "6 30                         9            VG         88        0   \n",
       "  Wind direction Speed\n",
       "1 WSW            5    \n",
       "2 W              8    \n",
       "3 W              8    \n",
       "4 WSW            8    \n",
       "5 WSW            5    \n",
       "6 SW             5    "
      ]
     },
     "metadata": {},
     "output_type": "display_data"
    }
   ],
   "source": [
    "tail(df)"
   ]
  },
  {
   "cell_type": "code",
   "execution_count": 12,
   "id": "37de1fec",
   "metadata": {},
   "outputs": [],
   "source": [
    "write.csv(df,'ouput_process.csv', row.names=FALSE)"
   ]
  },
  {
   "cell_type": "code",
   "execution_count": null,
   "id": "21aadde5",
   "metadata": {},
   "outputs": [],
   "source": []
  },
  {
   "cell_type": "code",
   "execution_count": null,
   "id": "17f8012b",
   "metadata": {},
   "outputs": [],
   "source": []
  }
 ],
 "metadata": {
  "kernelspec": {
   "display_name": "R",
   "language": "R",
   "name": "ir"
  },
  "language_info": {
   "codemirror_mode": "r",
   "file_extension": ".r",
   "mimetype": "text/x-r-source",
   "name": "R",
   "pygments_lexer": "r",
   "version": "4.3.0"
  }
 },
 "nbformat": 4,
 "nbformat_minor": 5
}
